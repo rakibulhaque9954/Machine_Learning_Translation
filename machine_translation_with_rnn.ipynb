{
  "nbformat": 4,
  "nbformat_minor": 0,
  "metadata": {
    "colab": {
      "provenance": [],
      "gpuType": "T4",
      "mount_file_id": "1ppglemgrwuhilEp9Q8FSZhuDcYLES3kH",
      "authorship_tag": "ABX9TyP0T7wZf7sDV/oJJ4FJ/gkz",
      "include_colab_link": true
    },
    "kernelspec": {
      "name": "python3",
      "display_name": "Python 3"
    },
    "language_info": {
      "name": "python"
    },
    "accelerator": "GPU"
  },
  "cells": [
    {
      "cell_type": "markdown",
      "metadata": {
        "id": "view-in-github",
        "colab_type": "text"
      },
      "source": [
        "<a href=\"https://colab.research.google.com/github/rakibulhaque9954/Machine_Learning_Translation/blob/main/machine_translation_with_rnn.ipynb\" target=\"_parent\"><img src=\"https://colab.research.google.com/assets/colab-badge.svg\" alt=\"Open In Colab\"/></a>"
      ]
    },
    {
      "cell_type": "markdown",
      "source": [
        "# Imports"
      ],
      "metadata": {
        "id": "6OyNWaIhGugO"
      }
    },
    {
      "cell_type": "code",
      "execution_count": 1,
      "metadata": {
        "id": "1vu7wTWKGfMI"
      },
      "outputs": [],
      "source": [
        "import tensorflow as tf### models\n",
        "import numpy as np### math computations\n",
        "import matplotlib.pyplot as plt### plotting bar chart\n",
        "import sklearn### machine learning library\n",
        "import cv2## image processing\n",
        "from sklearn.metrics import confusion_matrix, roc_curve### metrics\n",
        "import seaborn as sns### visualizations\n",
        "import datetime\n",
        "import pathlib\n",
        "import io\n",
        "import os\n",
        "import re\n",
        "import string\n",
        "import time\n",
        "from numpy import random\n",
        "import tensorflow_datasets as tfds\n",
        "import tensorflow_probability as tfp\n",
        "from tensorflow.keras.models import Model\n",
        "from tensorflow.keras.layers import Layer\n",
        "from tensorflow.keras.layers import (Dense,Flatten,SimpleRNN,InputLayer,Conv1D,Bidirectional,GRU,LSTM,BatchNormalization,Dropout,Input, Embedding,TextVectorization)\n",
        "from tensorflow.keras.losses import BinaryCrossentropy,CategoricalCrossentropy, SparseCategoricalCrossentropy\n",
        "from tensorflow.keras.metrics import Accuracy,TopKCategoricalAccuracy, CategoricalAccuracy, SparseCategoricalAccuracy\n",
        "from tensorflow.keras.optimizers import Adam\n",
        "from google.colab import drive\n",
        "from google.colab import files\n",
        "from tensorboard.plugins import projector"
      ]
    },
    {
      "cell_type": "markdown",
      "source": [
        "# Dataset Prepration and Preprocessing"
      ],
      "metadata": {
        "id": "f0k-Dr2vHsLF"
      }
    },
    {
      "cell_type": "markdown",
      "source": [
        "## Dataset Download"
      ],
      "metadata": {
        "id": "XtJG-aLgHmew"
      }
    },
    {
      "cell_type": "markdown",
      "source": [
        "### Small dataset manythings.org"
      ],
      "metadata": {
        "id": "iDjk-thfImBK"
      }
    },
    {
      "cell_type": "code",
      "source": [
        "!wget https://www.manythings.org/anki/fra-eng.zip"
      ],
      "metadata": {
        "colab": {
          "base_uri": "https://localhost:8080/"
        },
        "id": "RJi1bKw2HqVg",
        "outputId": "47204a73-963f-499a-a295-d46182266436"
      },
      "execution_count": 2,
      "outputs": [
        {
          "output_type": "stream",
          "name": "stdout",
          "text": [
            "--2023-10-21 11:49:30--  https://www.manythings.org/anki/fra-eng.zip\n",
            "Resolving www.manythings.org (www.manythings.org)... 173.254.30.110\n",
            "Connecting to www.manythings.org (www.manythings.org)|173.254.30.110|:443... connected.\n",
            "HTTP request sent, awaiting response... 200 OK\n",
            "Length: 7757635 (7.4M) [application/zip]\n",
            "Saving to: ‘fra-eng.zip’\n",
            "\n",
            "fra-eng.zip         100%[===================>]   7.40M  3.88MB/s    in 1.9s    \n",
            "\n",
            "2023-10-21 11:49:33 (3.88 MB/s) - ‘fra-eng.zip’ saved [7757635/7757635]\n",
            "\n"
          ]
        }
      ]
    },
    {
      "cell_type": "code",
      "source": [
        "!unzip '/content/fra-eng.zip' -d '/content/dataset/'\n"
      ],
      "metadata": {
        "colab": {
          "base_uri": "https://localhost:8080/"
        },
        "id": "GxCUnBhPHylV",
        "outputId": "06e7c8c7-89cc-40ec-c943-34cf6ddcb658"
      },
      "execution_count": 3,
      "outputs": [
        {
          "output_type": "stream",
          "name": "stdout",
          "text": [
            "Archive:  /content/fra-eng.zip\n",
            "  inflating: /content/dataset/_about.txt  \n",
            "  inflating: /content/dataset/fra.txt  \n"
          ]
        }
      ]
    },
    {
      "cell_type": "markdown",
      "source": [
        "### Kaggle Dataset"
      ],
      "metadata": {
        "id": "wl2SNEvEIttI"
      }
    },
    {
      "cell_type": "code",
      "source": [
        "!pip install -q kaggle\n",
        "!mkdir ~/.kaggle\n",
        "!cp kaggle.json ~/.kaggle/\n",
        "!chmod 600 /root/.kaggle/kaggle.json\n",
        "!kaggle datasets download -d dhruvildave/en-fr-translation-dataset\n",
        "!unzip \"/content/en-fr-translation-dataset.zip\" -d \"/content/dataset/\""
      ],
      "metadata": {
        "id": "VhKQqC8fIwBj"
      },
      "execution_count": null,
      "outputs": []
    },
    {
      "cell_type": "code",
      "source": [
        "dataset = tf.data.experimental.CsvDataset(\n",
        "  \"/content/dataset/en-fr.csv\",\n",
        "  [\n",
        "    tf.string,\n",
        "    tf.string\n",
        "  ],\n",
        ")"
      ],
      "metadata": {
        "id": "N_F6TswdI3fC"
      },
      "execution_count": null,
      "outputs": []
    },
    {
      "cell_type": "markdown",
      "source": [
        "## Data Processing"
      ],
      "metadata": {
        "id": "OQFSFupRITO1"
      }
    },
    {
      "cell_type": "code",
      "source": [
        "text_dataset = tf.data.TextLineDataset('/content/dataset/fra.txt')\n",
        "\n"
      ],
      "metadata": {
        "id": "_KlQNKZ_H5ur"
      },
      "execution_count": 64,
      "outputs": []
    },
    {
      "cell_type": "code",
      "source": [
        "for i in text_dataset.take(5):\n",
        "  print(i)\n",
        "\n"
      ],
      "metadata": {
        "colab": {
          "base_uri": "https://localhost:8080/"
        },
        "id": "UMemm6h3JFUY",
        "outputId": "f27653a5-3621-4b50-b933-101285e1f6fe"
      },
      "execution_count": 65,
      "outputs": [
        {
          "output_type": "stream",
          "name": "stdout",
          "text": [
            "tf.Tensor(b'Go.\\tVa !\\tCC-BY 2.0 (France) Attribution: tatoeba.org #2877272 (CM) & #1158250 (Wittydev)', shape=(), dtype=string)\n",
            "tf.Tensor(b'Go.\\tMarche.\\tCC-BY 2.0 (France) Attribution: tatoeba.org #2877272 (CM) & #8090732 (Micsmithel)', shape=(), dtype=string)\n",
            "tf.Tensor(b'Go.\\tEn route !\\tCC-BY 2.0 (France) Attribution: tatoeba.org #2877272 (CM) & #8267435 (felix63)', shape=(), dtype=string)\n",
            "tf.Tensor(b'Go.\\tBouge !\\tCC-BY 2.0 (France) Attribution: tatoeba.org #2877272 (CM) & #9022935 (Micsmithel)', shape=(), dtype=string)\n",
            "tf.Tensor(b'Hi.\\tSalut !\\tCC-BY 2.0 (France) Attribution: tatoeba.org #538123 (CM) & #509819 (Aiji)', shape=(), dtype=string)\n"
          ]
        }
      ]
    },
    {
      "cell_type": "code",
      "source": [
        "VOCAB_SIZE = 20000\n",
        "ENGLISH_SEQUENCE_LENGTH = 64 # explicitly initialising input and output length of sequences\n",
        "FRENCH_SEQUENCE_LENGTH = 64\n",
        "EMBEDDING_DIM = 300\n",
        "BATCH_SIZE = 64\n",
        "\n",
        "\n",
        "\n"
      ],
      "metadata": {
        "id": "zF9jnVObJHK2"
      },
      "execution_count": 89,
      "outputs": []
    },
    {
      "cell_type": "markdown",
      "source": [
        "### Vectorizing layers"
      ],
      "metadata": {
        "id": "rJbLcx8NTjly"
      }
    },
    {
      "cell_type": "code",
      "source": [
        "english_vectorize_layer = tf.keras.layers.TextVectorization(\n",
        "    standardize='lower_and_strip_punctuation',\n",
        "    max_tokens=VOCAB_SIZE,\n",
        "    output_mode='int',\n",
        "    output_sequence_length=ENGLISH_SEQUENCE_LENGTH)\n",
        "\n",
        "\n"
      ],
      "metadata": {
        "id": "0pa62-K5Jrez"
      },
      "execution_count": 67,
      "outputs": []
    },
    {
      "cell_type": "code",
      "source": [
        "french_vectorize_layer = tf.keras.layers.TextVectorization(\n",
        "    standardize='lower_and_strip_punctuation',\n",
        "    max_tokens=VOCAB_SIZE,\n",
        "    output_mode='int',\n",
        "    output_sequence_length=FRENCH_SEQUENCE_LENGTH)"
      ],
      "metadata": {
        "id": "ODuIx_zdJ46t"
      },
      "execution_count": 68,
      "outputs": []
    },
    {
      "cell_type": "markdown",
      "source": [
        "### Splitting and organising tokens"
      ],
      "metadata": {
        "id": "Zg0S-d8LTnYy"
      }
    },
    {
      "cell_type": "code",
      "source": [
        "def selector(input_text):\n",
        "  \"\"\"[starttoken] and [endtoken] token initialized just as the model explanation the [endtoken] part is the output\"\"\"\n",
        "  split_text = tf.strings.split(input_text, sep='\\t')\n",
        "  return {'input_1' : split_text[0 : 1], 'input_2' : '[starttoken] '+ split_text[1 : 2]}, split_text[1 : 2] + ' [endtoken]'\n",
        "\n",
        "\n",
        "\n"
      ],
      "metadata": {
        "id": "LfkhF2FpKmhH"
      },
      "execution_count": 69,
      "outputs": []
    },
    {
      "cell_type": "code",
      "source": [
        "split_dataset = text_dataset.map(selector)\n",
        "\n",
        "\n"
      ],
      "metadata": {
        "id": "nAIB7luDK0KB"
      },
      "execution_count": 70,
      "outputs": []
    },
    {
      "cell_type": "code",
      "source": [
        "for i in split_dataset.take(1):\n",
        "  print(i)"
      ],
      "metadata": {
        "colab": {
          "base_uri": "https://localhost:8080/"
        },
        "id": "HM6is1tjK4n6",
        "outputId": "1471476c-414b-4cfc-9fca-6538dba9dfbf"
      },
      "execution_count": 71,
      "outputs": [
        {
          "output_type": "stream",
          "name": "stdout",
          "text": [
            "({'input_1': <tf.Tensor: shape=(1,), dtype=string, numpy=array([b'Go.'], dtype=object)>, 'input_2': <tf.Tensor: shape=(1,), dtype=string, numpy=array([b'[starttoken] Va !'], dtype=object)>}, <tf.Tensor: shape=(1,), dtype=string, numpy=array([b'Va ! [endtoken]'], dtype=object)>)\n"
          ]
        }
      ]
    },
    {
      "cell_type": "markdown",
      "source": [
        "**As the data shows how the inputs have been seperated:**\n",
        "- Input 1 - {'input_1': <tf.Tensor: shape=(1,), dtype=string, numpy=array([b'Go.']>\n",
        "- Input 2 - 'input_2': <tf.Tensor: shape=(1,), dtype=string, numpy=array([b'[starttoken] Va !']>\n",
        "- Output - <tf.Tensor: shape=(1,), dtype=string, numpy=array([b'Va ! [endtoken]']>\n",
        "\n",
        "***The inputs and output has been processed for training, the split dataset is for training while init is for vocabulary creation.***"
      ],
      "metadata": {
        "id": "M44tqL0zHtpQ"
      }
    },
    {
      "cell_type": "markdown",
      "source": [
        "### Initialising Data for creating Vocabulary"
      ],
      "metadata": {
        "id": "9sD9jRCnTzrw"
      }
    },
    {
      "cell_type": "code",
      "source": [
        "def selector(input_text):\n",
        "  \"\"\"This function is needed to create vocabulary\"\"\"\n",
        "  split_text = tf.strings.split(input_text, sep='\\t')\n",
        "  return split_text[0 : 1], '[starttoken] ' + split_text[1 : 2] + ' [endtoken]' # combining input 2 and output the decoder part"
      ],
      "metadata": {
        "id": "mrZuK9PVJTIn"
      },
      "execution_count": 72,
      "outputs": []
    },
    {
      "cell_type": "code",
      "source": [
        "init_dataset = text_dataset.map(selector)\n"
      ],
      "metadata": {
        "id": "lDbk7XHpKfgi"
      },
      "execution_count": 73,
      "outputs": []
    },
    {
      "cell_type": "code",
      "source": [
        "for i in init_dataset.take(5):\n",
        "  print(i)\n"
      ],
      "metadata": {
        "colab": {
          "base_uri": "https://localhost:8080/"
        },
        "id": "fdilxCQ-Kx9Q",
        "outputId": "0767fccd-f603-44f4-e3ea-e9c1d578f19d"
      },
      "execution_count": 74,
      "outputs": [
        {
          "output_type": "stream",
          "name": "stdout",
          "text": [
            "(<tf.Tensor: shape=(1,), dtype=string, numpy=array([b'Go.'], dtype=object)>, <tf.Tensor: shape=(1,), dtype=string, numpy=array([b'[starttoken] Va ! [endtoken]'], dtype=object)>)\n",
            "(<tf.Tensor: shape=(1,), dtype=string, numpy=array([b'Go.'], dtype=object)>, <tf.Tensor: shape=(1,), dtype=string, numpy=array([b'[starttoken] Marche. [endtoken]'], dtype=object)>)\n",
            "(<tf.Tensor: shape=(1,), dtype=string, numpy=array([b'Go.'], dtype=object)>, <tf.Tensor: shape=(1,), dtype=string, numpy=array([b'[starttoken] En route ! [endtoken]'], dtype=object)>)\n",
            "(<tf.Tensor: shape=(1,), dtype=string, numpy=array([b'Go.'], dtype=object)>, <tf.Tensor: shape=(1,), dtype=string, numpy=array([b'[starttoken] Bouge ! [endtoken]'], dtype=object)>)\n",
            "(<tf.Tensor: shape=(1,), dtype=string, numpy=array([b'Hi.'], dtype=object)>, <tf.Tensor: shape=(1,), dtype=string, numpy=array([b'[starttoken] Salut ! [endtoken]'], dtype=object)>)\n"
          ]
        }
      ]
    },
    {
      "cell_type": "markdown",
      "source": [
        "### English and French Vocabulary creation"
      ],
      "metadata": {
        "id": "iCLwQBbJUBPc"
      }
    },
    {
      "cell_type": "code",
      "source": [
        "english_training_data = init_dataset.map(lambda x,y: x) # x is for eng\n",
        "english_vectorize_layer.adapt(english_training_data)\n",
        "\n",
        "\n"
      ],
      "metadata": {
        "id": "Ynnm-FkcJ6cq"
      },
      "execution_count": 75,
      "outputs": []
    },
    {
      "cell_type": "code",
      "source": [
        "french_training_data = init_dataset.map(lambda x,y: y) # y is for french\n",
        "french_vectorize_layer.adapt(french_training_data)"
      ],
      "metadata": {
        "id": "BCDZdOzbKJPr"
      },
      "execution_count": 76,
      "outputs": []
    },
    {
      "cell_type": "markdown",
      "source": [
        "### Vectorizing tokens for training"
      ],
      "metadata": {
        "id": "GSszn52aUMtz"
      }
    },
    {
      "cell_type": "code",
      "source": [
        "def vectorizer(inputs, output):\n",
        "  return {'input_1' : english_vectorize_layer(inputs['input_1']),\n",
        "          'input_2' : french_vectorize_layer(inputs['input_2']) }, french_vectorize_layer(output)\n",
        "\n",
        "# making the input_1 and input_2 together for inputs\n",
        "\n",
        "\n"
      ],
      "metadata": {
        "id": "Ti2mP6FeLH36"
      },
      "execution_count": 77,
      "outputs": []
    },
    {
      "cell_type": "code",
      "source": [
        "print(french_vectorize_layer.get_vocabulary()[:10])\n",
        "print(english_vectorize_layer.get_vocabulary()[:10])\n",
        "\n",
        "\n"
      ],
      "metadata": {
        "colab": {
          "base_uri": "https://localhost:8080/"
        },
        "id": "LAerc7ykS4MR",
        "outputId": "5b89597f-b254-4b13-8ab3-31904a83381a"
      },
      "execution_count": 86,
      "outputs": [
        {
          "output_type": "stream",
          "name": "stdout",
          "text": [
            "['', '[UNK]', 'starttoken', 'endtoken', 'je', 'de', 'pas', 'que', 'ne', 'le']\n",
            "['', '[UNK]', 'i', 'you', 'to', 'the', 'a', 'tom', 'is', 'that']\n"
          ]
        }
      ]
    },
    {
      "cell_type": "markdown",
      "source": [
        "**- Now starttoken and endtoken are added as tokens in the vocabulary.**"
      ],
      "metadata": {
        "id": "bfJajaMWTMcV"
      }
    },
    {
      "cell_type": "code",
      "source": [
        "dataset = split_dataset.map(vectorizer)"
      ],
      "metadata": {
        "id": "ABzkpFwhMsEF"
      },
      "execution_count": 98,
      "outputs": []
    },
    {
      "cell_type": "code",
      "source": [
        "for i in dataset.take(1):\n",
        "  print(i)"
      ],
      "metadata": {
        "colab": {
          "base_uri": "https://localhost:8080/"
        },
        "id": "ELPzW9n9NzgI",
        "outputId": "417d1118-f86f-4ee5-a866-607451cdb3e9"
      },
      "execution_count": 99,
      "outputs": [
        {
          "output_type": "stream",
          "name": "stdout",
          "text": [
            "({'input_1': <tf.Tensor: shape=(1, 64), dtype=int64, numpy=\n",
            "array([[44,  0,  0,  0,  0,  0,  0,  0,  0,  0,  0,  0,  0,  0,  0,  0,\n",
            "         0,  0,  0,  0,  0,  0,  0,  0,  0,  0,  0,  0,  0,  0,  0,  0,\n",
            "         0,  0,  0,  0,  0,  0,  0,  0,  0,  0,  0,  0,  0,  0,  0,  0,\n",
            "         0,  0,  0,  0,  0,  0,  0,  0,  0,  0,  0,  0,  0,  0,  0,  0]])>, 'input_2': <tf.Tensor: shape=(1, 64), dtype=int64, numpy=\n",
            "array([[  2, 103,   0,   0,   0,   0,   0,   0,   0,   0,   0,   0,   0,\n",
            "          0,   0,   0,   0,   0,   0,   0,   0,   0,   0,   0,   0,   0,\n",
            "          0,   0,   0,   0,   0,   0,   0,   0,   0,   0,   0,   0,   0,\n",
            "          0,   0,   0,   0,   0,   0,   0,   0,   0,   0,   0,   0,   0,\n",
            "          0,   0,   0,   0,   0,   0,   0,   0,   0,   0,   0,   0]])>}, <tf.Tensor: shape=(1, 64), dtype=int64, numpy=\n",
            "array([[103,   3,   0,   0,   0,   0,   0,   0,   0,   0,   0,   0,   0,\n",
            "          0,   0,   0,   0,   0,   0,   0,   0,   0,   0,   0,   0,   0,\n",
            "          0,   0,   0,   0,   0,   0,   0,   0,   0,   0,   0,   0,   0,\n",
            "          0,   0,   0,   0,   0,   0,   0,   0,   0,   0,   0,   0,   0,\n",
            "          0,   0,   0,   0,   0,   0,   0,   0,   0,   0,   0,   0]])>)\n"
          ]
        }
      ]
    },
    {
      "cell_type": "code",
      "source": [
        "print(f'ENG: {english_vectorize_layer.get_vocabulary()[44]}')\n",
        "print(f'FR: {french_vectorize_layer.get_vocabulary()[2]}')\n",
        "print(f'FR: {french_vectorize_layer.get_vocabulary()[103]}')\n",
        "print(f'FR: {french_vectorize_layer.get_vocabulary()[3]}')\n"
      ],
      "metadata": {
        "colab": {
          "base_uri": "https://localhost:8080/"
        },
        "id": "Itq8ND5WMt7G",
        "outputId": "fcffa5ac-b94b-4bc9-e12c-d7a163238e64"
      },
      "execution_count": 100,
      "outputs": [
        {
          "output_type": "stream",
          "name": "stdout",
          "text": [
            "ENG: go\n",
            "FR: starttoken\n",
            "FR: va\n",
            "FR: endtoken\n"
          ]
        }
      ]
    },
    {
      "cell_type": "markdown",
      "source": [
        "### Training data Batching and Prefetching"
      ],
      "metadata": {
        "id": "xyQ3a2bDUTrq"
      }
    },
    {
      "cell_type": "code",
      "source": [
        "dataset = dataset.shuffle(2048).unbatch()\n",
        "dataset = dataset.batch(BATCH_SIZE)\n",
        "dataset = dataset.prefetch(tf.data.AUTOTUNE)\n"
      ],
      "metadata": {
        "id": "xi3oPkkaUbIw"
      },
      "execution_count": 101,
      "outputs": []
    },
    {
      "cell_type": "code",
      "source": [
        "dataset"
      ],
      "metadata": {
        "colab": {
          "base_uri": "https://localhost:8080/"
        },
        "id": "dcUx1N3aVX9q",
        "outputId": "8d5737ea-074d-4837-92b0-767228adf0f7"
      },
      "execution_count": 102,
      "outputs": [
        {
          "output_type": "execute_result",
          "data": {
            "text/plain": [
              "<_PrefetchDataset element_spec=({'input_1': TensorSpec(shape=(None, 64), dtype=tf.int64, name=None), 'input_2': TensorSpec(shape=(None, 64), dtype=tf.int64, name=None)}, TensorSpec(shape=(None, 64), dtype=tf.int64, name=None))>"
            ]
          },
          "metadata": {},
          "execution_count": 102
        }
      ]
    },
    {
      "cell_type": "code",
      "source": [
        "NUM_BATCHES = int(200000 / BATCH_SIZE)\n"
      ],
      "metadata": {
        "id": "JD5ZmQY1UpNf"
      },
      "execution_count": 103,
      "outputs": []
    },
    {
      "cell_type": "code",
      "source": [
        "train_dataset = dataset.take(int(0.9 * NUM_BATCHES))\n",
        "val_dataset = dataset.skip(int(0.9 * NUM_BATCHES))"
      ],
      "metadata": {
        "id": "HuLA2-BlVF_I"
      },
      "execution_count": 104,
      "outputs": []
    },
    {
      "cell_type": "code",
      "source": [
        "train_dataset"
      ],
      "metadata": {
        "colab": {
          "base_uri": "https://localhost:8080/"
        },
        "id": "Y3JLzcE8VrxW",
        "outputId": "9e4d1472-2e1d-4228-9c20-0eb3340de929"
      },
      "execution_count": 105,
      "outputs": [
        {
          "output_type": "execute_result",
          "data": {
            "text/plain": [
              "<_TakeDataset element_spec=({'input_1': TensorSpec(shape=(None, 64), dtype=tf.int64, name=None), 'input_2': TensorSpec(shape=(None, 64), dtype=tf.int64, name=None)}, TensorSpec(shape=(None, 64), dtype=tf.int64, name=None))>"
            ]
          },
          "metadata": {},
          "execution_count": 105
        }
      ]
    },
    {
      "cell_type": "markdown",
      "source": [
        "# Modeling"
      ],
      "metadata": {
        "id": "D1wPhN-3539y"
      }
    },
    {
      "cell_type": "markdown",
      "source": [
        "## Seq2Seq Model\n",
        "<h4>Model Diagram<h4>\n",
        "<img src='https://miro.medium.com/max/942/1*KtWwvLK-jpGPSnj3tStg-Q.png'>"
      ],
      "metadata": {
        "id": "jZcFVwncRTS7"
      }
    },
    {
      "cell_type": "code",
      "source": [
        "NUM_UNITS = 256"
      ],
      "metadata": {
        "id": "5B0kXGNSWFK9"
      },
      "execution_count": 106,
      "outputs": []
    },
    {
      "cell_type": "markdown",
      "source": [
        "### Encoder"
      ],
      "metadata": {
        "id": "HnesUO52WKkw"
      }
    },
    {
      "cell_type": "code",
      "source": [
        "input = Input(shape=(ENGLISH_SEQUENCE_LENGTH,), dtype='int64', name='input_1')\n",
        "x = Embedding(VOCAB_SIZE, NUM_UNITS)(input)\n",
        "encoded_input = Bidirectional(GRU(NUM_UNITS),)(x)\n"
      ],
      "metadata": {
        "id": "agGQtFUMWIBc"
      },
      "execution_count": 108,
      "outputs": []
    },
    {
      "cell_type": "markdown",
      "source": [
        "### Decoder"
      ],
      "metadata": {
        "id": "I4AVEuKfW5-0"
      }
    },
    {
      "cell_type": "code",
      "source": [
        "shifted_target = Input(shape=(FRENCH_SEQUENCE_LENGTH,), dtype='int64', name='input_2')\n",
        "x = Embedding(VOCAB_SIZE, EMBEDDING_DIM)(shifted_target)\n",
        "\n",
        "x = GRU(NUM_UNITS * 2, return_sequences=True)(x, initial_state=encoded_input)\n",
        "# NUM_UNITS is times 2 because bidirectional which gives 512 dimensions and return sequences is true becuase we need the output\n",
        "# we are using a unidirectional GRU because when doing translation the movement is from left to right\n",
        "# initial state is the hidden states from the encoder which becomes the input of the decoder"
      ],
      "metadata": {
        "id": "qxbMaqTWWxo3"
      },
      "execution_count": 109,
      "outputs": []
    },
    {
      "cell_type": "markdown",
      "source": [
        "### Output Layer"
      ],
      "metadata": {
        "id": "BJCT3QEBYHqY"
      }
    },
    {
      "cell_type": "code",
      "source": [
        "x = Dropout(0.5)(x)\n",
        "x = Dense(VOCAB_SIZE, activation='softmax')(x) # we are using softmax to classify the correct word from the vocab size,\n",
        "# dense does this by converting the output of (Batch, Sequence_length, output_dims) output_dims to vocab_size\n",
        "seq2seq_model = Model(inputs=[input, shifted_target], outputs=x)\n",
        "seq2seq_model.summary()\n",
        "\n"
      ],
      "metadata": {
        "colab": {
          "base_uri": "https://localhost:8080/"
        },
        "id": "_n9Du-9mYGtW",
        "outputId": "9743ccb7-90b4-464d-8814-e655c55dca01"
      },
      "execution_count": 110,
      "outputs": [
        {
          "output_type": "stream",
          "name": "stdout",
          "text": [
            "Model: \"model\"\n",
            "__________________________________________________________________________________________________\n",
            " Layer (type)                Output Shape                 Param #   Connected to                  \n",
            "==================================================================================================\n",
            " input_1 (InputLayer)        [(None, 64)]                 0         []                            \n",
            "                                                                                                  \n",
            " input_2 (InputLayer)        [(None, 64)]                 0         []                            \n",
            "                                                                                                  \n",
            " embedding (Embedding)       (None, 64, 256)              5120000   ['input_1[0][0]']             \n",
            "                                                                                                  \n",
            " embedding_1 (Embedding)     (None, 64, 300)              6000000   ['input_2[0][0]']             \n",
            "                                                                                                  \n",
            " bidirectional (Bidirection  (None, 512)                  789504    ['embedding[0][0]']           \n",
            " al)                                                                                              \n",
            "                                                                                                  \n",
            " gru_1 (GRU)                 (None, 64, 512)              1250304   ['embedding_1[0][0]',         \n",
            "                                                                     'bidirectional[0][0]']       \n",
            "                                                                                                  \n",
            " dropout (Dropout)           (None, 64, 512)              0         ['gru_1[0][0]']               \n",
            "                                                                                                  \n",
            " dense (Dense)               (None, 64, 20000)            1026000   ['dropout[0][0]']             \n",
            "                                                          0                                       \n",
            "                                                                                                  \n",
            "==================================================================================================\n",
            "Total params: 23419808 (89.34 MB)\n",
            "Trainable params: 23419808 (89.34 MB)\n",
            "Non-trainable params: 0 (0.00 Byte)\n",
            "__________________________________________________________________________________________________\n"
          ]
        }
      ]
    },
    {
      "cell_type": "code",
      "source": [
        "class BLEU(tf.keras.metrics.Metric):\n",
        "  def __init__(self, name='bleu_score'):\n",
        "    super(BLEU, self).__init__()\n",
        "    self.bleu_result = 0\n",
        "\n",
        "  def update_state(self, y_true, y_pred, sample_weight=None):\n",
        "    y_pred = tf.argmax(y_pred, axis=-1) # seeing if the predicted word is true or not\n",
        "    self.bleu_result = 0\n",
        "\n",
        "    for i, j in zip(y_true, y_pred):\n",
        "      tf.autograph.experimental.set_loop_options()\n",
        "\n",
        "      total_words = tf.math.count_nonzero(i)\n",
        "      total_matches = 0\n",
        "\n",
        "      for word in i:\n",
        "        if word == 0:\n",
        "          break\n",
        "        for q in range(len(j)):\n",
        "          if j[q] == 0:\n",
        "            break\n",
        "          if j[q] == word:\n",
        "            total_matches += 1\n",
        "            j = tf.boolean_mask(j, [False if y == q else True for y in range(len(j))])\n",
        "            break\n",
        "            # removes the matched word in the predicted sequence\n",
        "\n",
        "      self.bleu_result += total_matches / total_words\n",
        "\n",
        "  def result(self):\n",
        "    return self.bleu_result/BATCH_SIZE\n",
        "\n"
      ],
      "metadata": {
        "id": "8Khcf-DlCrcq"
      },
      "execution_count": 170,
      "outputs": []
    },
    {
      "cell_type": "code",
      "source": [
        "j = tf.constant([1, 2, 3, 4, 5])\n",
        "j = tf.boolean_mask(j, [False if y == 2 else True for y in range(len(j))])\n",
        "print(j)\n"
      ],
      "metadata": {
        "colab": {
          "base_uri": "https://localhost:8080/"
        },
        "id": "bXxk49cwGWwV",
        "outputId": "1327bdd7-e8ec-4ec7-db50-60b298546079"
      },
      "execution_count": 171,
      "outputs": [
        {
          "output_type": "stream",
          "name": "stdout",
          "text": [
            "tf.Tensor([1 2 4 5], shape=(4,), dtype=int32)\n"
          ]
        }
      ]
    },
    {
      "cell_type": "code",
      "source": [
        "seq2seq_model.compile(loss='sparse_categorical_crossentropy', optimizer=tf.keras.optimizers.Adam(1e-4),\n",
        "                      metrics=[BLEU()], run_eagerly=True)\n"
      ],
      "metadata": {
        "id": "Zm1-oEkkZKtp"
      },
      "execution_count": 172,
      "outputs": []
    },
    {
      "cell_type": "code",
      "source": [
        "history = seq2seq_model.fit(train_dataset, epochs=15, validation_data=val_dataset)\n"
      ],
      "metadata": {
        "id": "ot6oM90rZqdT"
      },
      "execution_count": null,
      "outputs": []
    },
    {
      "cell_type": "code",
      "source": [
        "# seq2seq_model.save('/content/drive/MyDrive/seq2seq_model.hdf5')\n",
        "\n"
      ],
      "metadata": {
        "colab": {
          "base_uri": "https://localhost:8080/"
        },
        "id": "7Hcexmsb2b63",
        "outputId": "e70daee4-5156-4743-97a2-3ddc02a70ad9"
      },
      "execution_count": 174,
      "outputs": [
        {
          "output_type": "stream",
          "name": "stderr",
          "text": [
            "/usr/local/lib/python3.10/dist-packages/keras/src/engine/training.py:3000: UserWarning: You are saving your model as an HDF5 file via `model.save()`. This file format is considered legacy. We recommend using instead the native Keras format, e.g. `model.save('my_model.keras')`.\n",
            "  saving_api.save_model(\n"
          ]
        }
      ]
    },
    {
      "cell_type": "markdown",
      "source": [
        "# Model loss and accuracy Plots"
      ],
      "metadata": {
        "id": "gCqYQTVAaW9i"
      }
    },
    {
      "cell_type": "code",
      "source": [
        "plt.plot(history.history['loss'])\n",
        "plt.plot(history.history['val_loss'])\n",
        "plt.title('Model loss')\n",
        "plt.ylabel('Loss')\n",
        "plt.xlabel('Epoch')\n",
        "plt.legend(['Train', 'Validation'], loc='upper left')\n",
        "plt.show()"
      ],
      "metadata": {
        "colab": {
          "base_uri": "https://localhost:8080/",
          "height": 472
        },
        "id": "8tIAwAWF3Bkw",
        "outputId": "49cc65d0-8623-4b6b-f0cf-728d8d96c73d"
      },
      "execution_count": 117,
      "outputs": [
        {
          "output_type": "display_data",
          "data": {
            "text/plain": [
              "<Figure size 640x480 with 1 Axes>"
            ],
            "image/png": "[encoded data removed]"
          },
          "metadata": {}
        }
      ]
    },
    {
      "cell_type": "code",
      "source": [
        "plt.plot(history.history['accuracy'])\n",
        "plt.plot(history.history['val_accuracy'])\n",
        "plt.title('Model Accuracy')\n",
        "plt.ylabel('Accuracy')\n",
        "plt.xlabel('Epoch')\n",
        "plt.legend(['Train', 'Validation'], loc='upper left')\n",
        "plt.show()"
      ],
      "metadata": {
        "colab": {
          "base_uri": "https://localhost:8080/",
          "height": 472
        },
        "id": "lBqkID683DZv",
        "outputId": "8d0910e8-3965-4a42-c29b-d05f63e5ec46"
      },
      "execution_count": 118,
      "outputs": [
        {
          "output_type": "display_data",
          "data": {
            "text/plain": [
              "<Figure size 640x480 with 1 Axes>"
            ],
            "image/png": "[encoded data removed]"
          },
          "metadata": {}
        }
      ]
    },
    {
      "cell_type": "markdown",
      "source": [
        "# Load saved model from drive"
      ],
      "metadata": {
        "id": "tbMwgjM034og"
      }
    },
    {
      "cell_type": "code",
      "source": [
        "from keras.models import load_model\n",
        "\n",
        "model = load_model('/content/drive/MyDrive/seq2seq_model.h5')\n"
      ],
      "metadata": {
        "id": "9A3IgUwA3Sbt"
      },
      "execution_count": 176,
      "outputs": []
    },
    {
      "cell_type": "code",
      "source": [
        "model.compile(loss='sparse_categorical_crossentropy', optimizer=tf.keras.optimizers.Adam(1e-4),\n",
        "              metrics=[BLEU()], run_eagerly=True)"
      ],
      "metadata": {
        "id": "no3cQy5YKwqn"
      },
      "execution_count": 178,
      "outputs": []
    },
    {
      "cell_type": "code",
      "source": [
        "model.evaluate(val_dataset.take(20))\n"
      ],
      "metadata": {
        "colab": {
          "base_uri": "https://localhost:8080/"
        },
        "id": "1lFTNiRkKeOc",
        "outputId": "358efe0c-316c-4feb-9aaa-52fa5bab624a"
      },
      "execution_count": 182,
      "outputs": [
        {
          "output_type": "stream",
          "name": "stdout",
          "text": [
            "20/20 [==============================] - 136s 5s/step - loss: 0.3300 - bleu_6: 0.5150\n"
          ]
        },
        {
          "output_type": "execute_result",
          "data": {
            "text/plain": [
              "[0.3299589455127716, 0.5149903048340548]"
            ]
          },
          "metadata": {},
          "execution_count": 182
        }
      ]
    },
    {
      "cell_type": "markdown",
      "source": [
        "# Testing\n"
      ],
      "metadata": {
        "id": "j7LXCB0s39SJ"
      }
    },
    {
      "cell_type": "code",
      "source": [
        "index_to_word = {x: y for x, y in zip(range(len(french_vectorize_layer.get_vocabulary())),\n",
        "                                      french_vectorize_layer.get_vocabulary())}\n",
        "\n"
      ],
      "metadata": {
        "id": "FuB9-fTG3Z0E"
      },
      "execution_count": 120,
      "outputs": []
    },
    {
      "cell_type": "code",
      "source": [
        "index_to_word"
      ],
      "metadata": {
        "colab": {
          "base_uri": "https://localhost:8080/"
        },
        "id": "XUb-ZEk34eHL",
        "outputId": "d9020ef1-7004-4cc1-d592-f27c1471e4fb"
      },
      "execution_count": 121,
      "outputs": [
        {
          "output_type": "execute_result",
          "data": {
            "text/plain": [
              "{0: '',\n",
              " 1: '[UNK]',\n",
              " 2: 'starttoken',\n",
              " 3: 'endtoken',\n",
              " 4: 'je',\n",
              " 5: 'de',\n",
              " 6: 'pas',\n",
              " 7: 'que',\n",
              " 8: 'ne',\n",
              " 9: 'le',\n",
              " 10: 'à',\n",
              " 11: 'la',\n",
              " 12: 'vous',\n",
              " 13: 'tom',\n",
              " 14: 'il',\n",
              " 15: 'est',\n",
              " 16: 'tu',\n",
              " 17: 'un',\n",
              " 18: 'ce',\n",
              " 19: 'a',\n",
              " 20: 'nous',\n",
              " 21: 'les',\n",
              " 22: 'une',\n",
              " 23: 'en',\n",
              " 24: 'jai',\n",
              " 25: 'suis',\n",
              " 26: 'pour',\n",
              " 27: 'me',\n",
              " 28: 'faire',\n",
              " 29: 'cest',\n",
              " 30: 'dans',\n",
              " 31: 'plus',\n",
              " 32: 'des',\n",
              " 33: 'elle',\n",
              " 34: 'ça',\n",
              " 35: 'tout',\n",
              " 36: 'qui',\n",
              " 37: 'te',\n",
              " 38: 'fait',\n",
              " 39: 'ma',\n",
              " 40: 'du',\n",
              " 41: 'mon',\n",
              " 42: 'avec',\n",
              " 43: 'veux',\n",
              " 44: 'se',\n",
              " 45: 'au',\n",
              " 46: 'si',\n",
              " 47: 'et',\n",
              " 48: 'cette',\n",
              " 49: 'sont',\n",
              " 50: 'y',\n",
              " 51: 'quil',\n",
              " 52: 'très',\n",
              " 53: 'pense',\n",
              " 54: 'cela',\n",
              " 55: 'nest',\n",
              " 56: 'son',\n",
              " 57: 'sur',\n",
              " 58: 'votre',\n",
              " 59: 'pourquoi',\n",
              " 60: 'dit',\n",
              " 61: 'temps',\n",
              " 62: 'sais',\n",
              " 63: 'être',\n",
              " 64: 'été',\n",
              " 65: 'était',\n",
              " 66: 'peux',\n",
              " 67: 'moi',\n",
              " 68: 'nai',\n",
              " 69: 'chose',\n",
              " 70: 'ici',\n",
              " 71: 'jamais',\n",
              " 72: 'ils',\n",
              " 73: 'lui',\n",
              " 74: 'comment',\n",
              " 75: 'où',\n",
              " 76: 'bien',\n",
              " 77: 'estce',\n",
              " 78: 'ton',\n",
              " 79: 'quelque',\n",
              " 80: 'vraiment',\n",
              " 81: 'beaucoup',\n",
              " 82: 'on',\n",
              " 83: 'besoin',\n",
              " 84: 'dire',\n",
              " 85: 'tous',\n",
              " 86: 'toi',\n",
              " 87: 'personne',\n",
              " 88: 'par',\n",
              " 89: 'êtes',\n",
              " 90: 'sa',\n",
              " 91: 'rien',\n",
              " 92: 'Ça',\n",
              " 93: 'sest',\n",
              " 94: 'avons',\n",
              " 95: 'quelle',\n",
              " 96: 'sommes',\n",
              " 97: 'es',\n",
              " 98: 'ont',\n",
              " 99: 'as',\n",
              " 100: 'peu',\n",
              " 101: 'parler',\n",
              " 102: 'toujours',\n",
              " 103: 'va',\n",
              " 104: 'astu',\n",
              " 105: 'quand',\n",
              " 106: 'trop',\n",
              " 107: 'maison',\n",
              " 108: 'aller',\n",
              " 109: 'mes',\n",
              " 110: 'comme',\n",
              " 111: 'encore',\n",
              " 112: 'ta',\n",
              " 113: 'monde',\n",
              " 114: 'deux',\n",
              " 115: 'avezvous',\n",
              " 116: 'vais',\n",
              " 117: 'mary',\n",
              " 118: 'voir',\n",
              " 119: 'quoi',\n",
              " 120: 'train',\n",
              " 121: 'sil',\n",
              " 122: 'na',\n",
              " 123: 'mais',\n",
              " 124: 'bon',\n",
              " 125: 'elles',\n",
              " 126: 'avoir',\n",
              " 127: 'dois',\n",
              " 128: 'combien',\n",
              " 129: 'soit',\n",
              " 130: 'français',\n",
              " 131: 'faut',\n",
              " 132: 'peut',\n",
              " 133: 'avez',\n",
              " 134: 'ses',\n",
              " 135: 'aussi',\n",
              " 136: 'voiture',\n",
              " 137: 'là',\n",
              " 138: 'avait',\n",
              " 139: 'fois',\n",
              " 140: 'lair',\n",
              " 141: 'ai',\n",
              " 142: 'travail',\n",
              " 143: 'vu',\n",
              " 144: 'déjà',\n",
              " 145: 'pensais',\n",
              " 146: 'maintenant',\n",
              " 147: 'ny',\n",
              " 148: 'marie',\n",
              " 149: 'jaimerais',\n",
              " 150: 'juste',\n",
              " 151: 'aujourdhui',\n",
              " 152: 'quel',\n",
              " 153: 'jétais',\n",
              " 154: 'même',\n",
              " 155: 'chez',\n",
              " 156: 'eu',\n",
              " 157: 'ces',\n",
              " 158: 'cétait',\n",
              " 159: 'quelquun',\n",
              " 160: 'ceci',\n",
              " 161: 'notre',\n",
              " 162: 'À',\n",
              " 163: 'tes',\n",
              " 164: 'mieux',\n",
              " 165: 'fais',\n",
              " 166: 'bonne',\n",
              " 167: 'sans',\n",
              " 168: 'prendre',\n",
              " 169: 'hier',\n",
              " 170: 'trois',\n",
              " 171: 'mal',\n",
              " 172: 'assez',\n",
              " 173: 'estu',\n",
              " 174: 'toutes',\n",
              " 175: 'demain',\n",
              " 176: 'père',\n",
              " 177: 'seul',\n",
              " 178: 'livre',\n",
              " 179: 'porte',\n",
              " 180: 'noël',\n",
              " 181: 'nestce',\n",
              " 182: 'dû',\n",
              " 183: 'dun',\n",
              " 184: 'problème',\n",
              " 185: 'gens',\n",
              " 186: 'puisje',\n",
              " 187: 'plaît',\n",
              " 188: 'Êtesvous',\n",
              " 189: 'manger',\n",
              " 190: 'dêtre',\n",
              " 191: 'avant',\n",
              " 192: 'toute',\n",
              " 193: 'vie',\n",
              " 194: 'atil',\n",
              " 195: 'savoir',\n",
              " 196: 'aux',\n",
              " 197: 'enfants',\n",
              " 198: 'choses',\n",
              " 199: 'vos',\n",
              " 200: 'cet',\n",
              " 201: 'devrais',\n",
              " 202: 'ou',\n",
              " 203: 'questce',\n",
              " 204: 'passé',\n",
              " 205: 'voulais',\n",
              " 206: 'lai',\n",
              " 207: 'jaime',\n",
              " 208: 'pris',\n",
              " 209: 'nuit',\n",
              " 210: 'jour',\n",
              " 211: 'chien',\n",
              " 212: 'boston',\n",
              " 213: 'heures',\n",
              " 214: 'quelques',\n",
              " 215: 'partir',\n",
              " 216: 'soir',\n",
              " 217: 'fut',\n",
              " 218: 'jespère',\n",
              " 219: 'sûr',\n",
              " 220: 'dune',\n",
              " 221: 'peur',\n",
              " 222: 'dargent',\n",
              " 223: 'venir',\n",
              " 224: 'rester',\n",
              " 225: 'ans',\n",
              " 226: 'lécole',\n",
              " 227: 'difficile',\n",
              " 228: 'savais',\n",
              " 229: 'après',\n",
              " 230: 'jours',\n",
              " 231: 'dernière',\n",
              " 232: 'moment',\n",
              " 233: 'veut',\n",
              " 234: 'sens',\n",
              " 235: 'nouveau',\n",
              " 236: 'depuis',\n",
              " 237: 'simplement',\n",
              " 238: 'mère',\n",
              " 239: 'sait',\n",
              " 240: 'parle',\n",
              " 241: 'idée',\n",
              " 242: 'tôt',\n",
              " 243: 'pu',\n",
              " 244: 'êtesvous',\n",
              " 245: 'raison',\n",
              " 246: 'heureux',\n",
              " 247: 'pouvez',\n",
              " 248: 'narrive',\n",
              " 249: 'seule',\n",
              " 250: 'demandé',\n",
              " 251: 'semaine',\n",
              " 252: 'autre',\n",
              " 253: 'semble',\n",
              " 254: 'entendu',\n",
              " 255: 'souvent',\n",
              " 256: 'sois',\n",
              " 257: 'part',\n",
              " 258: 'question',\n",
              " 259: 'nêtes',\n",
              " 260: 'longtemps',\n",
              " 261: 'peutêtre',\n",
              " 262: 'pendant',\n",
              " 263: 'aider',\n",
              " 264: 'croire',\n",
              " 265: 'amis',\n",
              " 266: 'rendre',\n",
              " 267: 'javais',\n",
              " 268: 'soyez',\n",
              " 269: 'nom',\n",
              " 270: 'crois',\n",
              " 271: 'devons',\n",
              " 272: 'veuxtu',\n",
              " 273: 'parents',\n",
              " 274: 'leur',\n",
              " 275: 'acheté',\n",
              " 276: 'arrivé',\n",
              " 277: 'ami',\n",
              " 278: 'fille',\n",
              " 279: 'naime',\n",
              " 280: 'quon',\n",
              " 281: 'voulezvous',\n",
              " 282: 'tard',\n",
              " 283: 'sera',\n",
              " 284: 'petit',\n",
              " 285: 'pouvezvous',\n",
              " 286: 'trouvé',\n",
              " 287: 'largent',\n",
              " 288: 'grand',\n",
              " 289: 'femme',\n",
              " 290: 'perdu',\n",
              " 291: 'vrai',\n",
              " 292: 'désolé',\n",
              " 293: 'chambre',\n",
              " 294: 'retard',\n",
              " 295: 'nétait',\n",
              " 296: 'heure',\n",
              " 297: 'non',\n",
              " 298: 'nen',\n",
              " 299: 'demande',\n",
              " 300: 'peuxtu',\n",
              " 301: 'matin',\n",
              " 302: 'presque',\n",
              " 303: 'lire',\n",
              " 304: 'dautre',\n",
              " 305: 'pourrait',\n",
              " 306: 'trouver',\n",
              " 307: 'moins',\n",
              " 308: 'homme',\n",
              " 309: 'tai',\n",
              " 310: 'aucun',\n",
              " 311: 'jouer',\n",
              " 312: 'fête',\n",
              " 313: 'merci',\n",
              " 314: 'passer',\n",
              " 315: 'dont',\n",
              " 316: 'aucune',\n",
              " 317: 'prie',\n",
              " 318: 'pensé',\n",
              " 319: 'doit',\n",
              " 320: 'viens',\n",
              " 321: 'étaient',\n",
              " 322: 'pièce',\n",
              " 323: 'reste',\n",
              " 324: 'jusquà',\n",
              " 325: 'vérité',\n",
              " 326: 'fort',\n",
              " 327: 'mort',\n",
              " 328: 'faites',\n",
              " 329: 'estil',\n",
              " 330: 'travailler',\n",
              " 331: 'nes',\n",
              " 332: 'lorsque',\n",
              " 333: 'aime',\n",
              " 334: 'sujet',\n",
              " 335: 'nouvelle',\n",
              " 336: 'téléphone',\n",
              " 337: 'sortir',\n",
              " 338: 'journée',\n",
              " 339: 'chaque',\n",
              " 340: 'lit',\n",
              " 341: 'pouvoir',\n",
              " 342: 'café',\n",
              " 343: 'dis',\n",
              " 344: 'famille',\n",
              " 345: 'quils',\n",
              " 346: 'point',\n",
              " 347: 'frère',\n",
              " 348: 'bus',\n",
              " 349: 'ville',\n",
              " 350: 'devez',\n",
              " 351: 'bureau',\n",
              " 352: 'allé',\n",
              " 353: 'voulait',\n",
              " 354: 'pouvons',\n",
              " 355: 'veuillez',\n",
              " 356: 'main',\n",
              " 357: 'connais',\n",
              " 358: 'mis',\n",
              " 359: 'jen',\n",
              " 360: 'jeune',\n",
              " 361: 'devriez',\n",
              " 362: 'voulez',\n",
              " 363: 'grande',\n",
              " 364: 'chance',\n",
              " 365: 'lettre',\n",
              " 366: 'trouve',\n",
              " 367: 'petite',\n",
              " 368: 'donné',\n",
              " 369: 'occupé',\n",
              " 370: 'aide',\n",
              " 371: 'davantage',\n",
              " 372: 'tellement',\n",
              " 373: 'vite',\n",
              " 374: 'davoir',\n",
              " 375: 'coup',\n",
              " 376: 'enfant',\n",
              " 377: 'donner',\n",
              " 378: 'acheter',\n",
              " 379: 'bientôt',\n",
              " 380: 'passe',\n",
              " 381: 'daccord',\n",
              " 382: 'venu',\n",
              " 383: 'confiance',\n",
              " 384: 'livres',\n",
              " 385: 'seulement',\n",
              " 386: 'fini',\n",
              " 387: 'sœur',\n",
              " 388: 'facile',\n",
              " 389: 'partie',\n",
              " 390: 'ensemble',\n",
              " 391: 'serai',\n",
              " 392: 'prends',\n",
              " 393: 'nos',\n",
              " 394: 'tête',\n",
              " 395: 'men',\n",
              " 396: 'demander',\n",
              " 397: 'déjeuner',\n",
              " 398: 'personnes',\n",
              " 399: 'navons',\n",
              " 400: 'mauvais',\n",
              " 401: 'serait',\n",
              " 402: 'mangé',\n",
              " 403: 'froid',\n",
              " 404: 'envie',\n",
              " 405: 'près',\n",
              " 406: 'erreur',\n",
              " 407: 'prêt',\n",
              " 408: 'comprends',\n",
              " 409: 'allons',\n",
              " 410: 'nager',\n",
              " 411: 'jaurais',\n",
              " 412: 'devrait',\n",
              " 413: 'colère',\n",
              " 414: 'vivre',\n",
              " 415: 'pensestu',\n",
              " 416: 'nas',\n",
              " 417: 'leau',\n",
              " 418: 'étais',\n",
              " 419: 'oublié',\n",
              " 420: 'déteste',\n",
              " 421: 'yeux',\n",
              " 422: 'sous',\n",
              " 423: 'alors',\n",
              " 424: 'questions',\n",
              " 425: 'lheure',\n",
              " 426: 'daller',\n",
              " 427: 'essayé',\n",
              " 428: 'étiez',\n",
              " 429: 'vieux',\n",
              " 430: 'police',\n",
              " 431: 'heureuse',\n",
              " 432: 'fatigué',\n",
              " 433: 'contre',\n",
              " 434: 'photo',\n",
              " 435: 'mettre',\n",
              " 436: 'vue',\n",
              " 437: 'pourrais',\n",
              " 438: 'parlé',\n",
              " 439: 'réponse',\n",
              " 440: 'dernier',\n",
              " 441: 'attendre',\n",
              " 442: 'fils',\n",
              " 443: 'comprendre',\n",
              " 444: 'meilleur',\n",
              " 445: 'travaille',\n",
              " 446: 'réunion',\n",
              " 447: 'possible',\n",
              " 448: 'table',\n",
              " 449: 'dur',\n",
              " 450: 'chat',\n",
              " 451: 'garçon',\n",
              " 452: 'compte',\n",
              " 453: 'autant',\n",
              " 454: 'nourriture',\n",
              " 455: 'laissé',\n",
              " 456: 'film',\n",
              " 457: 'prix',\n",
              " 458: 'vélo',\n",
              " 459: 'place',\n",
              " 460: 'mois',\n",
              " 461: 'laisser',\n",
              " 462: 'regarder',\n",
              " 463: 'minutes',\n",
              " 464: 'malade',\n",
              " 465: 'conduire',\n",
              " 466: 'côté',\n",
              " 467: 'belle',\n",
              " 468: 'voudrais',\n",
              " 469: 'écrit',\n",
              " 470: 'navais',\n",
              " 471: 'dix',\n",
              " 472: 'pensezvous',\n",
              " 473: 'feu',\n",
              " 474: 'manière',\n",
              " 475: 'sûre',\n",
              " 476: 'ferais',\n",
              " 477: 'vient',\n",
              " 478: 'puisse',\n",
              " 479: 'attention',\n",
              " 480: 'genre',\n",
              " 481: 'parti',\n",
              " 482: 'probablement',\n",
              " 483: 'entre',\n",
              " 484: 'amie',\n",
              " 485: 'premier',\n",
              " 486: 'médecin',\n",
              " 487: '»',\n",
              " 488: 'mot',\n",
              " 489: 'serais',\n",
              " 490: 'plutôt',\n",
              " 491: 'jignore',\n",
              " 492: 'dici',\n",
              " 493: '«',\n",
              " 494: 'verre',\n",
              " 495: 'jadore',\n",
              " 496: 'exactement',\n",
              " 497: 'regarde',\n",
              " 498: 'chemin',\n",
              " 499: 'quelles',\n",
              " 500: 'dormir',\n",
              " 501: 'choix',\n",
              " 502: 'cheveux',\n",
              " 503: 'ainsi',\n",
              " 504: 'prochaine',\n",
              " 505: 'pays',\n",
              " 506: 'lautre',\n",
              " 507: 'autres',\n",
              " 508: 'ça\\xa0',\n",
              " 509: 'vois',\n",
              " 510: 'boire',\n",
              " 511: 'décidé',\n",
              " 512: 'saistu',\n",
              " 513: 'perdre',\n",
              " 514: 'dehors',\n",
              " 515: 'faim',\n",
              " 516: 'devrions',\n",
              " 517: 'pouvais',\n",
              " 518: 'plan',\n",
              " 519: 'loin',\n",
              " 520: 'première',\n",
              " 521: 'leurs',\n",
              " 522: 'beau',\n",
              " 523: 'apprendre',\n",
              " 524: 'tant',\n",
              " 525: 'musique',\n",
              " 526: 'savezvous',\n",
              " 527: 'endroit',\n",
              " 528: 'désolée',\n",
              " 529: 'commencé',\n",
              " 530: 'vas',\n",
              " 531: 'suppose',\n",
              " 532: 'navez',\n",
              " 533: 'gare',\n",
              " 534: 'boulot',\n",
              " 535: 'pourriezvous',\n",
              " 536: 'fenêtre',\n",
              " 537: 'penser',\n",
              " 538: 'joue',\n",
              " 539: 'dîner',\n",
              " 540: 'laisse',\n",
              " 541: 'appris',\n",
              " 542: 'lieu',\n",
              " 543: 'content',\n",
              " 544: 'cours',\n",
              " 545: 'chaud',\n",
              " 546: 'savait',\n",
              " 547: 'essayer',\n",
              " 548: 'âge',\n",
              " 549: 'chanter',\n",
              " 550: 'quiconque',\n",
              " 551: 'lun',\n",
              " 552: 'payer',\n",
              " 553: 'mange',\n",
              " 554: 'gros',\n",
              " 555: 'pouvait',\n",
              " 556: 'vin',\n",
              " 557: 'surpris',\n",
              " 558: 'entendre',\n",
              " 559: 'propos',\n",
              " 560: 'histoire',\n",
              " 561: 'important',\n",
              " 562: 'répondre',\n",
              " 563: 'professeur',\n",
              " 564: 'problèmes',\n",
              " 565: 'fumer',\n",
              " 566: 'avais',\n",
              " 567: 'voyage',\n",
              " 568: 'japon',\n",
              " 569: 'argent',\n",
              " 570: 'allez',\n",
              " 571: 'sécurité',\n",
              " 572: 'jy',\n",
              " 573: 'rentrer',\n",
              " 574: 'plait',\n",
              " 575: 'cadeau',\n",
              " 576: 'peine',\n",
              " 577: 'arriver',\n",
              " 578: 'vont',\n",
              " 579: 'laissemoi',\n",
              " 580: 'étions',\n",
              " 581: 'nouvelles',\n",
              " 582: 'peuvent',\n",
              " 583: 'ferai',\n",
              " 584: 'visite',\n",
              " 585: 'décision',\n",
              " 586: 'ten',\n",
              " 587: 'arrive',\n",
              " 588: 'maider',\n",
              " 589: 'année',\n",
              " 590: 'rencontrer',\n",
              " 591: 'lhomme',\n",
              " 592: 'reçu',\n",
              " 593: 'marcher',\n",
              " 594: 'aije',\n",
              " 595: 'terminé',\n",
              " 596: 'mains',\n",
              " 597: 'vit',\n",
              " 598: 'lu',\n",
              " 599: 'changer',\n",
              " 600: 'parce',\n",
              " 601: 'revoir',\n",
              " 602: 'complètement',\n",
              " 603: 'chercher',\n",
              " 604: 'arrête',\n",
              " 605: 'lundi',\n",
              " 606: 'auparavant',\n",
              " 607: 'immédiatement',\n",
              " 608: 'bois',\n",
              " 609: 'produit',\n",
              " 610: 'derrière',\n",
              " 611: 'terre',\n",
              " 612: 'langue',\n",
              " 613: 'voulons',\n",
              " 614: 'rapidement',\n",
              " 615: 'chaussures',\n",
              " 616: 'situation',\n",
              " 617: 'route',\n",
              " 618: 'commence',\n",
              " 619: 'cause',\n",
              " 620: 'quune',\n",
              " 621: 'devoirs',\n",
              " 622: 'façon',\n",
              " 623: 'aimé',\n",
              " 624: 'pas\\xa0',\n",
              " 625: 'vers',\n",
              " 626: 'neige',\n",
              " 627: 'devenir',\n",
              " 628: 'poser',\n",
              " 629: 'nombreux',\n",
              " 630: 'blessé',\n",
              " 631: 'secret',\n",
              " 632: 'prochain',\n",
              " 633: 'mauvaise',\n",
              " 634: 'lait',\n",
              " 635: 'deau',\n",
              " 636: 'cinq',\n",
              " 637: 'occupée',\n",
              " 638: 'cœur',\n",
              " 639: 'chanson',\n",
              " 640: 'riche',\n",
              " 641: 'parfois',\n",
              " 642: 'lintention',\n",
              " 643: 'faisait',\n",
              " 644: 'aurait',\n",
              " 645: 'assis',\n",
              " 646: 'mas',\n",
              " 647: 'fin',\n",
              " 648: 'classe',\n",
              " 649: 'ait',\n",
              " 650: 'taider',\n",
              " 651: 'tomber',\n",
              " 652: 'appelé',\n",
              " 653: 'écrire',\n",
              " 654: 'làbas',\n",
              " 655: 'bruit',\n",
              " 656: 'rencontré',\n",
              " 657: 'discuter',\n",
              " 658: 'rue',\n",
              " 659: 'quun',\n",
              " 660: 'laissezmoi',\n",
              " 661: 'dites',\n",
              " 662: 'stupide',\n",
              " 663: 'santé',\n",
              " 664: 'plein',\n",
              " 665: 'laquelle',\n",
              " 666: 'étudier',\n",
              " 667: 'prenez',\n",
              " 668: 'bière',\n",
              " 669: 'nimporte',\n",
              " 670: 'navait',\n",
              " 671: 'montrer',\n",
              " 672: 'tort',\n",
              " 673: 'devant',\n",
              " 674: 'vastu',\n",
              " 675: 'nécessaire',\n",
              " 676: 'naurais',\n",
              " 677: 'trente',\n",
              " 678: 'thé',\n",
              " 679: 'gagner',\n",
              " 680: 'arrêté',\n",
              " 681: 'utiliser',\n",
              " 682: 'commencer',\n",
              " 683: 'chapeau',\n",
              " 684: 'tennis',\n",
              " 685: 'faisons',\n",
              " 686: 'vêtements',\n",
              " 687: 'télévision',\n",
              " 688: 'montre',\n",
              " 689: 'thomas',\n",
              " 690: 'certain',\n",
              " 691: 'numéro',\n",
              " 692: 'lune',\n",
              " 693: 'lannée',\n",
              " 694: 'vacances',\n",
              " 695: 'magasin',\n",
              " 696: 'guerre',\n",
              " 697: 'propre',\n",
              " 698: 'j’ai',\n",
              " 699: 'celui',\n",
              " 700: 'soleil',\n",
              " 701: 'dy',\n",
              " 702: 'anglais',\n",
              " 703: 'vouloir',\n",
              " 704: 'veulent',\n",
              " 705: 'soin',\n",
              " 706: 'aprèsmidi',\n",
              " 707: 'marché',\n",
              " 708: 'laide',\n",
              " 709: 'sorte',\n",
              " 710: 'droit',\n",
              " 711: 'bébé',\n",
              " 712: 'retour',\n",
              " 713: 'long',\n",
              " 714: 'font',\n",
              " 715: 'rappelle',\n",
              " 716: 'fier',\n",
              " 717: 'australie',\n",
              " 718: 'poste',\n",
              " 719: 'changé',\n",
              " 720: 'télé',\n",
              " 721: 'rouge',\n",
              " 722: 'meilleure',\n",
              " 723: 'plaisir',\n",
              " 724: 'journal',\n",
              " 725: 'arrêter',\n",
              " 726: 'mourir',\n",
              " 727: 'boîte',\n",
              " 728: 'affaires',\n",
              " 729: 'vieille',\n",
              " 730: 'restaurant',\n",
              " 731: 'plusieurs',\n",
              " 732: 'nombreuses',\n",
              " 733: 'cas',\n",
              " 734: 'bras',\n",
              " 735: 'emploi',\n",
              " 736: 'donc',\n",
              " 737: 'souviens',\n",
              " 738: 'sen',\n",
              " 739: 'rire',\n",
              " 740: 'fit',\n",
              " 741: 'fasse',\n",
              " 742: 'sac',\n",
              " 743: 'rivière',\n",
              " 744: 'ordinateur',\n",
              " 745: 'garder',\n",
              " 746: 'clé',\n",
              " 747: 'capable',\n",
              " 748: 'prête',\n",
              " 749: 'savez',\n",
              " 750: 'parc',\n",
              " 751: 'dollars',\n",
              " 752: 'langlais',\n",
              " 753: 'volé',\n",
              " 754: 'vaut',\n",
              " 755: 'lumière',\n",
              " 756: 'cuisine',\n",
              " 757: 'réparer',\n",
              " 758: 'pluie',\n",
              " 759: 'mont',\n",
              " 760: 'suite',\n",
              " 761: 'fleurs',\n",
              " 762: 'devoir',\n",
              " 763: 'carte',\n",
              " 764: '«\\xa0je',\n",
              " 765: 'vis',\n",
              " 766: 'pourraistu',\n",
              " 767: 'nont',\n",
              " 768: 'laccident',\n",
              " 769: 'jardin',\n",
              " 770: 'désormais',\n",
              " 771: 'dentre',\n",
              " 772: 'compris',\n",
              " 773: 'plage',\n",
              " 774: 'dangereux',\n",
              " 775: 'voici',\n",
              " 776: 'robe',\n",
              " 777: 'préfère',\n",
              " 778: 'dispose',\n",
              " 779: 'conseil',\n",
              " 780: 'affaire',\n",
              " 781: 'voulu',\n",
              " 782: 'sagit',\n",
              " 783: 'liste',\n",
              " 784: 'entrer',\n",
              " 785: 'dès',\n",
              " 786: 'pleuvoir',\n",
              " 787: 'penses',\n",
              " 788: 'années',\n",
              " 789: 'tasse',\n",
              " 790: 'mots',\n",
              " 791: 'connaît',\n",
              " 792: 'rapport',\n",
              " 793: 'porter',\n",
              " 794: 'libre',\n",
              " 795: 'c’est',\n",
              " 796: 'résoudre',\n",
              " 797: 'pleurer',\n",
              " 798: 'ouvert',\n",
              " 799: 'chiens',\n",
              " 800: 'bizarre',\n",
              " 801: 'étudiants',\n",
              " 802: 'type',\n",
              " 803: 'regardé',\n",
              " 804: 'lhôpital',\n",
              " 805: 'resté',\n",
              " 806: 'rendu',\n",
              " 807: 'nétais',\n",
              " 808: 'mesure',\n",
              " 809: 'minute',\n",
              " 810: 'intéressant',\n",
              " 811: 'filles',\n",
              " 812: 'donnemoi',\n",
              " 813: 'manteau',\n",
              " 814: 'lequel',\n",
              " 815: 'fou',\n",
              " 816: 'finalement',\n",
              " 817: 'eux',\n",
              " 818: 'dormi',\n",
              " 819: 'pied',\n",
              " 820: 'marche',\n",
              " 821: 'gâteau',\n",
              " 822: 'garde',\n",
              " 823: 'finir',\n",
              " 824: 'accident',\n",
              " 825: 'règles',\n",
              " 826: 'faute',\n",
              " 827: 'japprécie',\n",
              " 828: 'étrange',\n",
              " 829: 'suffisamment',\n",
              " 830: 'payé',\n",
              " 831: 'hommes',\n",
              " 832: 'dautres',\n",
              " 833: 'surprise',\n",
              " 834: 'six',\n",
              " 835: 'cher',\n",
              " 836: 'souhaite',\n",
              " 837: 'savons',\n",
              " 838: 'fonctionne',\n",
              " 839: 'telle',\n",
              " 840: 'prend',\n",
              " 841: 'estelle',\n",
              " 842: 'excuses',\n",
              " 843: 'dirait',\n",
              " 844: 'restez',\n",
              " 845: 'devenu',\n",
              " 846: 'mets',\n",
              " 847: 'weekend',\n",
              " 848: 'doute',\n",
              " 849: 'moindre',\n",
              " 850: 'moimême',\n",
              " 851: 'arrêtez',\n",
              " 852: 'amies',\n",
              " 853: 'dictionnaire',\n",
              " 854: 'quatre',\n",
              " 855: 'fermer',\n",
              " 856: 'cassé',\n",
              " 857: 'autour',\n",
              " 858: 'suisje',\n",
              " 859: 'poisson',\n",
              " 860: 'tenir',\n",
              " 861: 'poids',\n",
              " 862: 'plupart',\n",
              " 863: 'manque',\n",
              " 864: 'rêve',\n",
              " 865: 'réussi',\n",
              " 866: 'projet',\n",
              " 867: 'gentil',\n",
              " 868: 'tombé',\n",
              " 869: 'sérieux',\n",
              " 870: 'dismoi',\n",
              " 871: 'bonnes',\n",
              " 872: 'amoureux',\n",
              " 873: 'allezvous',\n",
              " 874: 'simple',\n",
              " 875: 'prison',\n",
              " 876: 'parapluie',\n",
              " 877: 'donne',\n",
              " 878: 'courant',\n",
              " 879: 'pire',\n",
              " 880: 'patron',\n",
              " 881: 'fera',\n",
              " 882: 'femmes',\n",
              " 883: 'dimanche',\n",
              " 884: 'bibliothèque',\n",
              " 885: 'grosse',\n",
              " 886: 'danser',\n",
              " 887: 'crains',\n",
              " 888: 'bu',\n",
              " 889: 'lever',\n",
              " 890: 'furent',\n",
              " 891: 'fatiguée',\n",
              " 892: 'demanda',\n",
              " 893: 'court',\n",
              " 894: 'bateau',\n",
              " 895: 'promets',\n",
              " 896: 'my',\n",
              " 897: 'mavez',\n",
              " 898: 'équipe',\n",
              " 899: 'tour',\n",
              " 900: 'succès',\n",
              " 901: 'noir',\n",
              " 902: 'certains',\n",
              " 903: 'aurais',\n",
              " 904: 'triste',\n",
              " 905: 'salle',\n",
              " 906: 'lunettes',\n",
              " 907: 'face',\n",
              " 908: 'coûte',\n",
              " 909: 'repas',\n",
              " 910: 'promis',\n",
              " 911: 'daide',\n",
              " 912: 'certaine',\n",
              " 913: 'serez',\n",
              " 914: 'rend',\n",
              " 915: 'essaie',\n",
              " 916: 'venue',\n",
              " 917: 'sommeil',\n",
              " 918: 'quels',\n",
              " 919: 'pommes',\n",
              " 920: 'lhistoire',\n",
              " 921: 'allée',\n",
              " 922: 'hors',\n",
              " 923: 'danger',\n",
              " 924: 'tué',\n",
              " 925: 'quitter',\n",
              " 926: 'pas\\u202f',\n",
              " 927: 'mit',\n",
              " 928: 'piano',\n",
              " 929: 'petitdéjeuner',\n",
              " 930: 'laissez',\n",
              " 931: 'doù',\n",
              " 932: 'compter',\n",
              " 933: 'cherche',\n",
              " 934: 'car',\n",
              " 935: 'appeler',\n",
              " 936: 'drôle',\n",
              " 937: 'chemise',\n",
              " 938: 'viande',\n",
              " 939: 'jeu',\n",
              " 940: 'douleur',\n",
              " 941: 'coucher',\n",
              " 942: 'connaître',\n",
              " 943: 'avocat',\n",
              " 944: 'sorti',\n",
              " 945: 'jignorais',\n",
              " 946: 'impossible',\n",
              " 947: 'gagné',\n",
              " 948: 'voyager',\n",
              " 949: 'voudriezvous',\n",
              " 950: 'travers',\n",
              " 951: 'prudent',\n",
              " 952: 'pouvonsnous',\n",
              " 953: 'différence',\n",
              " 954: 'courir',\n",
              " 955: 'bâtiment',\n",
              " 956: 'lintérieur',\n",
              " 957: 'intelligent',\n",
              " 958: 'dessus',\n",
              " 959: 'certaines',\n",
              " 960: 'école',\n",
              " 961: 'sontils',\n",
              " 962: 'senti',\n",
              " 963: 'mariage',\n",
              " 964: 'ferme',\n",
              " 965: 'rendezvous',\n",
              " 966: 'oncle',\n",
              " 967: 'mari',\n",
              " 968: 'doisje',\n",
              " 969: 'celle',\n",
              " 970: 'bons',\n",
              " 971: 'aidé',\n",
              " 972: 'également',\n",
              " 973: 'rappeler',\n",
              " 974: 'papier',\n",
              " 975: 'lac',\n",
              " 976: 'invité',\n",
              " 977: 'haut',\n",
              " 978: 'faitesvous',\n",
              " 979: 'attendu',\n",
              " 980: 'voix',\n",
              " 981: 'venez',\n",
              " 982: 'taxi',\n",
              " 983: 'sol',\n",
              " 984: 'seras',\n",
              " 985: 'radio',\n",
              " 986: 'ouvrir',\n",
              " 987: 'message',\n",
              " 988: 'japonais',\n",
              " 989: 'garçons',\n",
              " 990: 'fermé',\n",
              " 991: 'réfléchir',\n",
              " 992: 'photos',\n",
              " 993: 'cheval',\n",
              " 994: 'allait',\n",
              " 995: 'retourner',\n",
              " 996: 'létranger',\n",
              " 997: 'linstant',\n",
              " 998: 'durant',\n",
              " 999: 'conseils',\n",
              " ...}"
            ]
          },
          "metadata": {},
          "execution_count": 121
        }
      ]
    },
    {
      "cell_type": "code",
      "source": [
        "def translator(english_sentence):\n",
        "  tokenized_english_sentence = english_vectorize_layer([english_sentence])\n",
        "  shifted_target = 'starttoken'\n",
        "  ### Personalized Input ###\n",
        "\n",
        "\n",
        "  for i in range(FRENCH_SEQUENCE_LENGTH):\n",
        "    tokenized_shifted_target = french_vectorize_layer([shifted_target])\n",
        "    predictions = seq2seq_model.predict([tokenized_english_sentence, tokenized_shifted_target])\n",
        "    french_word_index = tf.argmax(predictions, axis=-1)[0][i].numpy()\n",
        "    print(french_word_index)\n",
        "    current_word = index_to_word[french_word_index]\n",
        "    if current_word == 'endtoken':\n",
        "      break\n",
        "    shifted_target += ' ' + current_word\n",
        "    ### Convert all tokens and add relationship to each token to form a sentence\n",
        "  return shifted_target[11: ]\n",
        "\n",
        "\n",
        "\n",
        "\n",
        "\n"
      ],
      "metadata": {
        "id": "mJl96DbE4c7y"
      },
      "execution_count": 126,
      "outputs": []
    },
    {
      "cell_type": "code",
      "source": [
        "translator('Lets eat dinner')\n",
        "\n"
      ],
      "metadata": {
        "colab": {
          "base_uri": "https://localhost:8080/",
          "height": 205
        },
        "id": "05g1XJNh6cC3",
        "outputId": "db15843f-d0a1-46ba-9032-40e6232748ad"
      },
      "execution_count": 181,
      "outputs": [
        {
          "output_type": "stream",
          "name": "stdout",
          "text": [
            "1/1 [==============================] - 0s 46ms/step\n",
            "2393\n",
            "1/1 [==============================] - 0s 42ms/step\n",
            "10\n",
            "1/1 [==============================] - 0s 49ms/step\n",
            "11\n",
            "1/1 [==============================] - 0s 49ms/step\n",
            "107\n",
            "1/1 [==============================] - 0s 50ms/step\n",
            "3\n"
          ]
        },
        {
          "output_type": "execute_result",
          "data": {
            "text/plain": [
              "'jouons à la maison'"
            ],
            "application/vnd.google.colaboratory.intrinsic+json": {
              "type": "string"
            }
          },
          "metadata": {},
          "execution_count": 181
        }
      ]
    },
    {
      "cell_type": "markdown",
      "source": [
        "Not quite accurate"
      ],
      "metadata": {
        "id": "zhw3vVa-UvYB"
      }
    },
    {
      "cell_type": "code",
      "source": [
        "word_to_index = {y: x for x, y in zip(range(len(french_vectorize_layer.get_vocabulary())),\n",
        "                                      french_vectorize_layer.get_vocabulary())}"
      ],
      "metadata": {
        "id": "ik2rJDWg6dc6"
      },
      "execution_count": 136,
      "outputs": []
    },
    {
      "cell_type": "code",
      "source": [
        "word_to_index['passetil']"
      ],
      "metadata": {
        "colab": {
          "base_uri": "https://localhost:8080/"
        },
        "id": "d2OixnB__KEe",
        "outputId": "3e2d6e8b-302f-4485-bf3d-e4019ec79885"
      },
      "execution_count": 137,
      "outputs": [
        {
          "output_type": "execute_result",
          "data": {
            "text/plain": [
              "2549"
            ]
          },
          "metadata": {},
          "execution_count": 137
        }
      ]
    },
    {
      "cell_type": "code",
      "source": [
        "index_to_word[2549]"
      ],
      "metadata": {
        "colab": {
          "base_uri": "https://localhost:8080/",
          "height": 35
        },
        "id": "2O5J2vNl_Nnk",
        "outputId": "55569846-abb8-4e19-b4e5-dc40e028fa2f"
      },
      "execution_count": 139,
      "outputs": [
        {
          "output_type": "execute_result",
          "data": {
            "text/plain": [
              "'passetil'"
            ],
            "application/vnd.google.colaboratory.intrinsic+json": {
              "type": "string"
            }
          },
          "metadata": {},
          "execution_count": 139
        }
      ]
    },
    {
      "cell_type": "markdown",
      "source": [
        "Accuracy metric isnt suited much for this translation, instead BLEU shall be used.\n",
        "- B - Bi\n",
        "- L - Lingual\n",
        "- E - Evaluation\n",
        "- U - Understudy\n",
        "\n",
        "BLEU metric shall be used for translation based evaluation.\n",
        "\n",
        "**Verdict**\n",
        "- Even though accuracy was high about 90%. when evaluated the metric BLEU score was around 50 - 60% which is quite low for a translation model.\n",
        "\n",
        "For machine translation tasks, BLEU scores can range from 0 to 100. Higher scores are better.\n",
        "- The Model needs more training and a bigger dataset for training.\n"
      ],
      "metadata": {
        "id": "XPw3RQTC_wGU"
      }
    }
  ]
}