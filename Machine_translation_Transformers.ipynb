{
  "cells": [
    {
      "cell_type": "markdown",
      "metadata": {
        "id": "view-in-github",
        "colab_type": "text"
      },
      "source": [
        "<a href=\"https://colab.research.google.com/github/rakibulhaque9954/Machine_Learning_Translation/blob/main/Machine_translation_Transformers.ipynb\" target=\"_parent\"><img src=\"https://colab.research.google.com/assets/colab-badge.svg\" alt=\"Open In Colab\"/></a>"
      ]
    },
    {
      "cell_type": "markdown",
      "metadata": {
        "id": "VGgjjqp2_ZzA"
      },
      "source": [
        "# Acknowledgement"
      ]
    },
    {
      "cell_type": "markdown",
      "metadata": {
        "id": "Ojkq8lGs_ezj"
      },
      "source": [
        "**Based on research by members of Google Brain, Google Research, Univerity of Toronto**<br>\n",
        "Paper Link: https://arxiv.org/pdf/1706.03762.pdf\n"
      ]
    },
    {
      "cell_type": "markdown",
      "metadata": {
        "id": "YkeasEue5qIo"
      },
      "source": [
        "# Imports"
      ]
    },
    {
      "cell_type": "code",
      "execution_count": 1,
      "metadata": {
        "id": "Vt93_FwG0cLc"
      },
      "outputs": [],
      "source": [
        "import tensorflow as tf### models\n",
        "import numpy as np### math computations\n",
        "import matplotlib.pyplot as plt### plotting bar chart\n",
        "import sklearn### machine learning library\n",
        "import cv2## image processing\n",
        "from sklearn.metrics import confusion_matrix, roc_curve### metrics\n",
        "import seaborn as sns### visualizations\n",
        "import datetime\n",
        "import pathlib\n",
        "import io\n",
        "import os\n",
        "import re\n",
        "import string\n",
        "import time\n",
        "from numpy import random\n",
        "import tensorflow_datasets as tfds\n",
        "import tensorflow_probability as tfp\n",
        "from keras.models import Model\n",
        "from keras.layers import Layer\n",
        "from keras.layers import (Dense,Flatten,SimpleRNN,InputLayer,Conv1D,Bidirectional,GRU,LSTM,BatchNormalization,Dropout,Input, Embedding,TextVectorization)\n",
        "from keras.losses import BinaryCrossentropy,CategoricalCrossentropy, SparseCategoricalCrossentropy\n",
        "from keras.metrics import Accuracy,TopKCategoricalAccuracy, CategoricalAccuracy, SparseCategoricalAccuracy\n",
        "from keras.optimizers import Adam\n",
        "from keras.layers import MultiHeadAttention, LayerNormalization\n",
        "from google.colab import drive\n",
        "from google.colab import files\n",
        "from tensorboard.plugins import projector"
      ]
    },
    {
      "cell_type": "markdown",
      "metadata": {
        "id": "yHoYbLZ0Vd1Z"
      },
      "source": [
        "# Data Preparation"
      ]
    },
    {
      "cell_type": "markdown",
      "metadata": {
        "id": "pHsvMYjUVhzT"
      },
      "source": [
        "## Dataset Download"
      ]
    },
    {
      "cell_type": "code",
      "execution_count": 2,
      "metadata": {
        "colab": {
          "base_uri": "https://localhost:8080/"
        },
        "id": "ntrhZXbqVhU0",
        "outputId": "54dbd0b0-2cbf-4e3b-8850-4a5c305d1ab2"
      },
      "outputs": [
        {
          "output_type": "stream",
          "name": "stdout",
          "text": [
            "--2023-10-27 09:53:51--  https://www.manythings.org/anki/fra-eng.zip\n",
            "Resolving www.manythings.org (www.manythings.org)... 173.254.30.110\n",
            "Connecting to www.manythings.org (www.manythings.org)|173.254.30.110|:443... connected.\n",
            "HTTP request sent, awaiting response... 200 OK\n",
            "Length: 7757635 (7.4M) [application/zip]\n",
            "Saving to: ‘fra-eng.zip’\n",
            "\n",
            "fra-eng.zip         100%[===================>]   7.40M  5.62MB/s    in 1.3s    \n",
            "\n",
            "2023-10-27 09:53:53 (5.62 MB/s) - ‘fra-eng.zip’ saved [7757635/7757635]\n",
            "\n"
          ]
        }
      ],
      "source": [
        "!wget https://www.manythings.org/anki/fra-eng.zip"
      ]
    },
    {
      "cell_type": "code",
      "execution_count": 3,
      "metadata": {
        "colab": {
          "base_uri": "https://localhost:8080/"
        },
        "id": "8ogDgWojVmgW",
        "outputId": "45c3d31b-524b-47a9-8bac-131e906fdeeb"
      },
      "outputs": [
        {
          "output_type": "stream",
          "name": "stdout",
          "text": [
            "Archive:  /content/fra-eng.zip\n",
            "  inflating: /content/dataset/_about.txt  \n",
            "  inflating: /content/dataset/fra.txt  \n"
          ]
        }
      ],
      "source": [
        "!unzip \"/content/fra-eng.zip\" -d \"/content/dataset/\""
      ]
    },
    {
      "cell_type": "markdown",
      "metadata": {
        "id": "nVKzR7bY19KK"
      },
      "source": [
        "## Kaggle Dataset"
      ]
    },
    {
      "cell_type": "code",
      "execution_count": 4,
      "metadata": {
        "id": "QNSRkIC72X9d"
      },
      "outputs": [],
      "source": [
        "# !pip install -q kaggle\n",
        "# !mkdir ~/.kaggle\n",
        "# !cp kaggle.json ~/.kaggle/\n",
        "# !chmod 600 /root/.kaggle/kaggle.json\n",
        "# !kaggle datasets download -d dhruvildave/en-fr-translation-dataset\n",
        "# !unzip \"/content/en-fr-translation-dataset.zip\" -d \"/content/dataset/\"\n"
      ]
    },
    {
      "cell_type": "code",
      "execution_count": 5,
      "metadata": {
        "id": "XEZz30Ux2eeS"
      },
      "outputs": [],
      "source": [
        "# dataset = tf.data.experimental.CsvDataset(\n",
        "#     \"/content/dataset/en-fr.csv\",\n",
        "#     [tf.string, tf.string],\n",
        "#     header=True  # Assumes the CSV file has a header\n",
        "# )\n",
        "\n",
        "# !mkdir /content/dataset1\n",
        "\n",
        "# with open(\"/content/dataset/en-fr.txt\", \"w\") as f:\n",
        "#     for english, french in dataset:\n",
        "#         # Convert TensorFlow tensors to Python strings\n",
        "#         english_str = english.numpy().decode(\"utf-8\")\n",
        "#         french_str = french.numpy().decode(\"utf-8\")\n",
        "\n",
        "#         # Write to the text file, separating the two languages by a tab character\n",
        "#         f.write(f\"{english_str}\\t{french_str}\\n\")"
      ]
    },
    {
      "cell_type": "code",
      "execution_count": 6,
      "metadata": {
        "id": "zqJzDztr2zzg"
      },
      "outputs": [],
      "source": [
        "# for i in dataset.take(3):\n",
        "#   print(i)"
      ]
    },
    {
      "cell_type": "markdown",
      "metadata": {
        "id": "496hge3MVqfy"
      },
      "source": [
        "## Data Preprocessing"
      ]
    },
    {
      "cell_type": "code",
      "execution_count": 51,
      "metadata": {
        "id": "8PTxBVhRVtHn"
      },
      "outputs": [],
      "source": [
        "text_dataset = tf.data.TextLineDataset(\"/content/dataset/fra.txt\")"
      ]
    },
    {
      "cell_type": "code",
      "execution_count": 52,
      "metadata": {
        "colab": {
          "base_uri": "https://localhost:8080/"
        },
        "id": "I3J-7rGF2xGx",
        "outputId": "b664a2f1-2eff-4c2f-f6b2-c436f28b3b37"
      },
      "outputs": [
        {
          "output_type": "stream",
          "name": "stdout",
          "text": [
            "tf.Tensor(b'Go.\\tVa !\\tCC-BY 2.0 (France) Attribution: tatoeba.org #2877272 (CM) & #1158250 (Wittydev)', shape=(), dtype=string)\n",
            "tf.Tensor(b'Go.\\tMarche.\\tCC-BY 2.0 (France) Attribution: tatoeba.org #2877272 (CM) & #8090732 (Micsmithel)', shape=(), dtype=string)\n",
            "tf.Tensor(b'Go.\\tEn route !\\tCC-BY 2.0 (France) Attribution: tatoeba.org #2877272 (CM) & #8267435 (felix63)', shape=(), dtype=string)\n"
          ]
        }
      ],
      "source": [
        "for i in text_dataset.take(3):\n",
        "  print(i)\n"
      ]
    },
    {
      "cell_type": "code",
      "execution_count": 53,
      "metadata": {
        "id": "BdHMIIBUVwk1"
      },
      "outputs": [],
      "source": [
        "VOCAB_SIZE = 20000\n",
        "ENGLISH_SEQUENCE_LENGTH = 32\n",
        "FRENCH_SEQUENCE_LENGTH = 32\n",
        "EMBEDDING_DIM = 512\n",
        "BATCH_SIZE = 128"
      ]
    },
    {
      "cell_type": "code",
      "execution_count": 54,
      "metadata": {
        "id": "FWKfvKc0VyZP"
      },
      "outputs": [],
      "source": [
        "english_vectorize_layer = TextVectorization(\n",
        "    standardize='lower_and_strip_punctuation',\n",
        "    max_tokens=VOCAB_SIZE,\n",
        "    output_mode='int',\n",
        "    output_sequence_length=ENGLISH_SEQUENCE_LENGTH\n",
        ")"
      ]
    },
    {
      "cell_type": "code",
      "execution_count": 55,
      "metadata": {
        "id": "1Pxg86h3Vz4T"
      },
      "outputs": [],
      "source": [
        "french_vectorize_layer = TextVectorization(\n",
        "    standardize='lower_and_strip_punctuation',\n",
        "    max_tokens=VOCAB_SIZE,\n",
        "    output_mode='int',\n",
        "    output_sequence_length=FRENCH_SEQUENCE_LENGTH\n",
        ")"
      ]
    },
    {
      "cell_type": "code",
      "execution_count": 56,
      "metadata": {
        "id": "cuF4bBn0V1wG"
      },
      "outputs": [],
      "source": [
        "def selector(input_text):\n",
        "  split_text = tf.strings.split(input_text,'\\t')\n",
        "  return {'input_1':split_text[0:1],'input_2':'starttoken '+split_text[1:2]},split_text[1:2]+' endtoken'"
      ]
    },
    {
      "cell_type": "code",
      "execution_count": 57,
      "metadata": {
        "id": "XyqsU18hV2hl"
      },
      "outputs": [],
      "source": [
        "split_dataset = text_dataset.map(selector)"
      ]
    },
    {
      "cell_type": "code",
      "execution_count": 58,
      "metadata": {
        "id": "qCv6PgKNV35i"
      },
      "outputs": [],
      "source": [
        "def separator(input_text):\n",
        "  split_text = tf.strings.split(input_text,'\\t')\n",
        "  return split_text[0:1],'starttoken '+split_text[1:2]+' endtoken'"
      ]
    },
    {
      "cell_type": "code",
      "execution_count": 59,
      "metadata": {
        "id": "JrPDAYWZV6Uh"
      },
      "outputs": [],
      "source": [
        "init_dataset = text_dataset.map(separator)"
      ]
    },
    {
      "cell_type": "code",
      "execution_count": 60,
      "metadata": {
        "colab": {
          "base_uri": "https://localhost:8080/"
        },
        "id": "ju_kmPLLV7yR",
        "outputId": "57940ab4-0e5c-4af1-d030-58763d337d29"
      },
      "outputs": [
        {
          "output_type": "stream",
          "name": "stdout",
          "text": [
            "({'input_1': <tf.Tensor: shape=(1,), dtype=string, numpy=array([b'Go.'], dtype=object)>, 'input_2': <tf.Tensor: shape=(1,), dtype=string, numpy=array([b'starttoken Va !'], dtype=object)>}, <tf.Tensor: shape=(1,), dtype=string, numpy=array([b'Va ! endtoken'], dtype=object)>)\n",
            "({'input_1': <tf.Tensor: shape=(1,), dtype=string, numpy=array([b'Go.'], dtype=object)>, 'input_2': <tf.Tensor: shape=(1,), dtype=string, numpy=array([b'starttoken Marche.'], dtype=object)>}, <tf.Tensor: shape=(1,), dtype=string, numpy=array([b'Marche. endtoken'], dtype=object)>)\n",
            "({'input_1': <tf.Tensor: shape=(1,), dtype=string, numpy=array([b'Go.'], dtype=object)>, 'input_2': <tf.Tensor: shape=(1,), dtype=string, numpy=array([b'starttoken En route !'], dtype=object)>}, <tf.Tensor: shape=(1,), dtype=string, numpy=array([b'En route ! endtoken'], dtype=object)>)\n"
          ]
        }
      ],
      "source": [
        "for i in split_dataset.take(3):\n",
        "  print(i)"
      ]
    },
    {
      "cell_type": "markdown",
      "metadata": {
        "id": "Poh42v6PV-Q3"
      },
      "source": [
        "### Vocabulary Creation"
      ]
    },
    {
      "cell_type": "code",
      "execution_count": 61,
      "metadata": {
        "id": "foghUS5HWA-3"
      },
      "outputs": [],
      "source": [
        "english_training_data=init_dataset.map(lambda x,y:x) # input x,y and output x\n",
        "english_vectorize_layer.adapt(english_training_data) # adapt the vectorize_layer to the training data\n",
        "\n",
        "french_training_data=init_dataset.map(lambda x,y:y) # input x,y,z and output y\n",
        "french_vectorize_layer.adapt(french_training_data) # adapt the vectorize_layer to the training data"
      ]
    },
    {
      "cell_type": "markdown",
      "metadata": {
        "id": "K57EhISUWIOZ"
      },
      "source": [
        "### Grouping and Vectorizing for training"
      ]
    },
    {
      "cell_type": "code",
      "execution_count": 62,
      "metadata": {
        "id": "HnCwIX7hWG3J"
      },
      "outputs": [],
      "source": [
        "def vectorizer(inputs,output):\n",
        "  return {'input_1':english_vectorize_layer(inputs['input_1']),\n",
        "          'input_2':french_vectorize_layer(inputs['input_2'])},french_vectorize_layer(output)"
      ]
    },
    {
      "cell_type": "code",
      "execution_count": 63,
      "metadata": {
        "id": "M8iZo8VWWNvw",
        "colab": {
          "base_uri": "https://localhost:8080/"
        },
        "outputId": "b2a3d0c7-5e45-4e2f-f8f0-c488391bfc9f"
      },
      "outputs": [
        {
          "output_type": "execute_result",
          "data": {
            "text/plain": [
              "<_MapDataset element_spec=({'input_1': TensorSpec(shape=(None,), dtype=tf.string, name=None), 'input_2': TensorSpec(shape=(None,), dtype=tf.string, name=None)}, TensorSpec(shape=(None,), dtype=tf.string, name=None))>"
            ]
          },
          "metadata": {},
          "execution_count": 63
        }
      ],
      "source": [
        "split_dataset"
      ]
    },
    {
      "cell_type": "code",
      "execution_count": 64,
      "metadata": {
        "id": "AbOPWonzWPxb"
      },
      "outputs": [],
      "source": [
        "dataset=split_dataset.map(vectorizer)"
      ]
    },
    {
      "cell_type": "code",
      "execution_count": 65,
      "metadata": {
        "id": "SZ9c340xWRh7",
        "colab": {
          "base_uri": "https://localhost:8080/"
        },
        "outputId": "a28fdcb2-325f-43f7-9c3a-7c0d74dc8940"
      },
      "outputs": [
        {
          "output_type": "stream",
          "name": "stdout",
          "text": [
            "({'input_1': <tf.Tensor: shape=(1,), dtype=string, numpy=array([b'Go.'], dtype=object)>, 'input_2': <tf.Tensor: shape=(1,), dtype=string, numpy=array([b'starttoken Va !'], dtype=object)>}, <tf.Tensor: shape=(1,), dtype=string, numpy=array([b'Va ! endtoken'], dtype=object)>)\n",
            "({'input_1': <tf.Tensor: shape=(1,), dtype=string, numpy=array([b'Go.'], dtype=object)>, 'input_2': <tf.Tensor: shape=(1,), dtype=string, numpy=array([b'starttoken Marche.'], dtype=object)>}, <tf.Tensor: shape=(1,), dtype=string, numpy=array([b'Marche. endtoken'], dtype=object)>)\n",
            "({'input_1': <tf.Tensor: shape=(1,), dtype=string, numpy=array([b'Go.'], dtype=object)>, 'input_2': <tf.Tensor: shape=(1,), dtype=string, numpy=array([b'starttoken En route !'], dtype=object)>}, <tf.Tensor: shape=(1,), dtype=string, numpy=array([b'En route ! endtoken'], dtype=object)>)\n"
          ]
        }
      ],
      "source": [
        "for i in split_dataset.take(3):\n",
        "  print(i)"
      ]
    },
    {
      "cell_type": "code",
      "execution_count": 66,
      "metadata": {
        "id": "ObbndISGWSCO",
        "colab": {
          "base_uri": "https://localhost:8080/"
        },
        "outputId": "ad8578e5-bc84-4ab5-e12d-4c6082d36595"
      },
      "outputs": [
        {
          "output_type": "stream",
          "name": "stdout",
          "text": [
            "({'input_1': <tf.Tensor: shape=(1, 32), dtype=int64, numpy=\n",
            "array([[44,  0,  0,  0,  0,  0,  0,  0,  0,  0,  0,  0,  0,  0,  0,  0,\n",
            "         0,  0,  0,  0,  0,  0,  0,  0,  0,  0,  0,  0,  0,  0,  0,  0]])>, 'input_2': <tf.Tensor: shape=(1, 32), dtype=int64, numpy=\n",
            "array([[  2, 103,   0,   0,   0,   0,   0,   0,   0,   0,   0,   0,   0,\n",
            "          0,   0,   0,   0,   0,   0,   0,   0,   0,   0,   0,   0,   0,\n",
            "          0,   0,   0,   0,   0,   0]])>}, <tf.Tensor: shape=(1, 32), dtype=int64, numpy=\n",
            "array([[103,   3,   0,   0,   0,   0,   0,   0,   0,   0,   0,   0,   0,\n",
            "          0,   0,   0,   0,   0,   0,   0,   0,   0,   0,   0,   0,   0,\n",
            "          0,   0,   0,   0,   0,   0]])>)\n"
          ]
        }
      ],
      "source": [
        "for i in dataset.take(1):\n",
        "  print(i)"
      ]
    },
    {
      "cell_type": "code",
      "execution_count": 67,
      "metadata": {
        "id": "_HegZ8trWVtu",
        "colab": {
          "base_uri": "https://localhost:8080/"
        },
        "outputId": "f5f029a3-25dd-49ec-a74a-77bd34bcc96f"
      },
      "outputs": [
        {
          "output_type": "execute_result",
          "data": {
            "text/plain": [
              "<_MapDataset element_spec=({'input_1': TensorSpec(shape=(None, 32), dtype=tf.int64, name=None), 'input_2': TensorSpec(shape=(None, 32), dtype=tf.int64, name=None)}, TensorSpec(shape=(None, 32), dtype=tf.int64, name=None))>"
            ]
          },
          "metadata": {},
          "execution_count": 67
        }
      ],
      "source": [
        "dataset"
      ]
    },
    {
      "cell_type": "code",
      "execution_count": 68,
      "metadata": {
        "id": "lf8z62zYWXtt"
      },
      "outputs": [],
      "source": [
        "dataset = dataset.shuffle(2048).unbatch().batch(BATCH_SIZE).prefetch(tf.data.AUTOTUNE)\n"
      ]
    },
    {
      "cell_type": "code",
      "execution_count": 69,
      "metadata": {
        "id": "UmcfGjPHWjRW",
        "colab": {
          "base_uri": "https://localhost:8080/"
        },
        "outputId": "725fc8c5-b754-4e9a-9347-752df350993f"
      },
      "outputs": [
        {
          "output_type": "execute_result",
          "data": {
            "text/plain": [
              "<_PrefetchDataset element_spec=({'input_1': TensorSpec(shape=(None, 32), dtype=tf.int64, name=None), 'input_2': TensorSpec(shape=(None, 32), dtype=tf.int64, name=None)}, TensorSpec(shape=(None, 32), dtype=tf.int64, name=None))>"
            ]
          },
          "metadata": {},
          "execution_count": 69
        }
      ],
      "source": [
        "dataset"
      ]
    },
    {
      "cell_type": "code",
      "execution_count": 70,
      "metadata": {
        "id": "CC75EqgIWlgD"
      },
      "outputs": [],
      "source": [
        "NUM_BATCHES = int(200000/BATCH_SIZE)"
      ]
    },
    {
      "cell_type": "markdown",
      "metadata": {
        "id": "h4W-wmztWnpS"
      },
      "source": [
        "### Dataset Split"
      ]
    },
    {
      "cell_type": "code",
      "execution_count": 71,
      "metadata": {
        "id": "sE3NStdoWm9G"
      },
      "outputs": [],
      "source": [
        "train_dataset = dataset.take(int(0.9*NUM_BATCHES))\n",
        "val_dataset = dataset.skip(int(0.9*NUM_BATCHES))"
      ]
    },
    {
      "cell_type": "code",
      "execution_count": 72,
      "metadata": {
        "id": "KtyT8GVvWrgL",
        "colab": {
          "base_uri": "https://localhost:8080/"
        },
        "outputId": "a03b6629-ae27-4402-ac0d-a3869e42d641"
      },
      "outputs": [
        {
          "output_type": "execute_result",
          "data": {
            "text/plain": [
              "<_TakeDataset element_spec=({'input_1': TensorSpec(shape=(None, 32), dtype=tf.int64, name=None), 'input_2': TensorSpec(shape=(None, 32), dtype=tf.int64, name=None)}, TensorSpec(shape=(None, 32), dtype=tf.int64, name=None))>"
            ]
          },
          "metadata": {},
          "execution_count": 72
        }
      ],
      "source": [
        "train_dataset"
      ]
    },
    {
      "cell_type": "markdown",
      "metadata": {
        "id": "xrvBxtH4XDVc"
      },
      "source": [
        "# Modeling\n",
        "\n",
        "<hr>\n",
        "<h4>Model Architecture</h4>\n",
        "<hr>\n",
        "<img src='https://machinelearningmastery.com/wp-content/uploads/2021/08/attention_research_1.png'>"
      ]
    },
    {
      "cell_type": "markdown",
      "metadata": {
        "id": "d65NBU1S1Vde"
      },
      "source": [
        "***Step Wise Explanation:***\n",
        "- Input Embedding: The process begins with encoding the input language (e.g., English sequence) into numerical vectors. Each word or token is transformed into a high-dimensional vector.\n",
        "- Multi-Head Self-Attention: This is the heart of a transformer. The model looks at each word in the input sentence and assigns different levels of importance to other words in the sentence. Multiple attention heads allow the model to focus on different aspects of the sentence simultaneously.\n",
        "- Positional Encoding: Since transformers don't have an inherent sense of word order, positional encoding is added to the word embeddings to help the model understand the word's position in the sentence.\n",
        "- Encoder-Decoder Architecture: In translation tasks, there are typically two parts: the encoder and the decoder. The encoder takes the input sentence and processes it, while the decoder generates the translated output.\n",
        "- Decoder Self-Attention: The decoder also uses multi-head self-attention, but it's slightly modified to prevent it from looking ahead in the output sentence, which would result in incorrect translations.\n",
        "- Attention Output: The outputs from the attention mechanisms are used to calculate attention scores, which determine how much each word in the input sentence contributes to each word in the output sentence.\n",
        "Position-wise Feedforward Networks: After attention, the model passes the data through feedforward neural networks to further process and refine the information.\n",
        "Output Layer: The final layer in the decoder produces probabilities for each word in the target language vocabulary, allowing the model to predict the next word in the translation.\n",
        "- Training and Optimization: Transformers are trained using large parallel corpora of source and target language sentences. They learn to minimize the difference between predicted translations and the actual translations in the training data.\n",
        "- Repeat for Each Token: This process is repeated for each word in the output sentence, where the previously generated words are used as context for generating the next word.\n",
        "Beam Search or Greedy Decoding: During inference, the model generates translations one word at a time. Beam search or greedy decoding is often used to select the most likely next word based on the model's predictions."
      ]
    },
    {
      "cell_type": "markdown",
      "metadata": {
        "id": "82vlVMX1QsJM"
      },
      "source": [
        "<h4>Inside Attention Layer</h4>\n",
        "<img src='https://production-media.paperswithcode.com/methods/35184258-10f5-4cd0-8de3-bd9bc8f88dc3.png'>"
      ]
    },
    {
      "cell_type": "markdown",
      "metadata": {
        "id": "OcBq72NyXBgO"
      },
      "source": [
        "Easy to understand Explanation:\n",
        "\n",
        "Lets break it down and relate it to the components and processes in a transformer model:\n",
        "\n",
        "- School and Students: Think of the school as the entire context, and the students as the individual tokens in a sequence.\n",
        "- Vectorization and Tokenization: The process of converting students into tokens and vectorizing them represents the initial preprocessing steps where text data is tokenized into individual words or tokens and then converted into numerical vector representations.\n",
        "- Vocabulary: The vocabulary of the school represents the set of unique tokens (students) that the model has learned from various schools within the same company. These tokens are used to represent words in the sequences.\n",
        "- Intra-Attention (Self-Attention):\n",
        "Each student's interaction with their classmates represents the intra-attention mechanism, where relationships, influences, and context between tokens (students) are captured.\n",
        "Each student becomes a query (Q), and their classmates become keys (K) and values (V).\n",
        "Attention scores are calculated to determine how much weight each student should give to their classmates.\n",
        "Softmax normalization of attention scores can be thought of as grading each student's relationships and influence on others.\n",
        "Concatenation of information from different teachers (heads) captures diverse insights.\n",
        "- Inter-Attention (Cross-Attention):\n",
        "When different classes (decoders) want to compare their students (tokens), it's akin to cross-attention between different parts of the model.\n",
        "A student from one class becomes a query (Q), and the students from another class become keys (K) and values (V).\n",
        "The process is similar to intra-attention but operates across different classes.\n",
        "- Linear Layer: The linear layer represents the post-attention processing step that helps combine and refine information before producing the final output.\n",
        "\n",
        "This is the essence of how attention mechanisms work in transformers, where tokens (students) attend to each other, calculate their influence, and produce context vectors (mark sheets) for each other. These context vectors are then used in cross-attention to compare tokens from different parts of the model, ultimately leading to the model's final output."
      ]
    },
    {
      "cell_type": "markdown",
      "metadata": {
        "id": "pTCpHdYylY9t"
      },
      "source": [
        "Encoder's Role (Intra-Attention in Encoder):\n",
        "The encoder processes the input sequence and performs intra-attention.\n",
        "It produces context vectors (contextual representations) for each word in the input sequence.\n",
        "These context vectors capture information about how each word relates to others within the input sequence.\n",
        "\n",
        "Signaling the Decoder:\n",
        "The decoder is signaled to start generating the output sequence.\n",
        "Typically, this is done by providing the decoder with an initial input, often a special start token (e.g., <START> or <SOS>).\n",
        "\n",
        "Generating the First Word:\n",
        "For the first word in the output sequence, the decoder combines the following:\n",
        "The start token as the initial query.\n",
        "The encoder's context vectors, which represent the input sequence.\n",
        "The decoder's own context vector for the output sequence (initialized explicitly).\n",
        "These components are used to predict the first word in the output sequence.\n",
        "\n",
        "Subsequent Word Predictions:\n",
        "For generating subsequent words in the output sequence, the following process occurs:\n",
        "The shifted target (previously generated word) becomes the query.\n",
        "The encoder's context vectors, representing the input sequence, are used for context.\n",
        "The context vectors for the target word (which includes context from the encoder) are also considered.\n",
        "The last word's hidden state, obtained from the decoder's self-attention (intra-attention), is incorporated.\n",
        "These components collectively contribute to the prediction of each subsequent word in the output sequence.\n",
        "\n",
        "Iterative Token Generation:\n",
        "The decoder repeats the process of generating tokens one by one, considering context from both the encoder's input sequence and its own generated sequence.\n",
        "At each step, the decoder calculates a probability distribution over the vocabulary for the next token and selects the token with the highest probability.\n",
        "\n",
        "Ending the Sequence:\n",
        "The process continues until the model generates an end token (e.g., <END> or <EOS>) or reaches a predefined maximum sequence length."
      ]
    },
    {
      "cell_type": "markdown",
      "metadata": {
        "id": "hmPY5aUXXORJ"
      },
      "source": [
        "## Transformers Architecture"
      ]
    },
    {
      "cell_type": "markdown",
      "metadata": {
        "id": "dv3t-6btPj-f"
      },
      "source": [
        "<img src=\"https://www.mihaileric.com/static/feedforward_layer_and_normalization-dfdcfbd00009f7f99eca73ae29f2dfb7-4ec3a.png\">"
      ]
    },
    {
      "cell_type": "markdown",
      "metadata": {
        "id": "NKhhYacdHlku"
      },
      "source": [
        "### Positional Encoding"
      ]
    },
    {
      "cell_type": "code",
      "execution_count": 73,
      "metadata": {
        "id": "qq2bXmPlHlCJ"
      },
      "outputs": [],
      "source": [
        "def positional_encoding(model_size, SEQUENCE_LENGTH): # d_model\n",
        "  output = []\n",
        "  for pos in range(SEQUENCE_LENGTH):\n",
        "    PE = np.zeros((model_size)) # initilizing with zeros\n",
        "    for i in range(model_size):\n",
        "      if i % 2 == 0: # even positions, sin formula is used according to paper\n",
        "        PE[i] = np.sin(pos/(10000**(i/model_size)))\n",
        "      else: # odd positions, cos formula is used as mentioned in the paper\n",
        "        PE[i] = np.cos(pos/(10000**((i-1)/model_size)))\n",
        "    output.append(tf.expand_dims(PE, axis = 0))\n",
        "\n",
        "  out = tf.concat(output, axis=0)\n",
        "  out = tf.expand_dims(out, axis=0)\n",
        "  return tf.cast(out, dtype=tf.float32)"
      ]
    },
    {
      "cell_type": "code",
      "execution_count": 74,
      "metadata": {
        "id": "KWIb_9ypKJ80",
        "colab": {
          "base_uri": "https://localhost:8080/"
        },
        "outputId": "53ba1476-1b83-4cb0-8703-a5d69f20b0b3"
      },
      "outputs": [
        {
          "output_type": "stream",
          "name": "stdout",
          "text": [
            "(1, 32, 256)\n"
          ]
        }
      ],
      "source": [
        "print(positional_encoding(256, 32).shape)"
      ]
    },
    {
      "cell_type": "markdown",
      "metadata": {
        "id": "RwiXTKylN9Nb"
      },
      "source": [
        "### Input Embeddings"
      ]
    },
    {
      "cell_type": "code",
      "execution_count": 75,
      "metadata": {
        "id": "Fb-2bfFuN753"
      },
      "outputs": [],
      "source": [
        "class Embeddings(Layer):\n",
        "  def __init__(self, sequence_length, vocab_size, embedding_dim):\n",
        "    super(Embeddings, self).__init__()\n",
        "    self.token_embeddings = Embedding(input_dim=vocab_size, output_dim=embedding_dim)\n",
        "    self.sequence_length = sequence_length\n",
        "    self.vocab_size = vocab_size\n",
        "    self.embedding_dim = embedding_dim\n",
        "\n",
        "  def call(self, inputs):\n",
        "    embedded_tokens = self.token_embeddings(inputs)\n",
        "    embedded_positions = positional_encoding(self.embedding_dim, self.sequence_length) # PE adding here\n",
        "    return embedded_tokens + embedded_positions # final output for inputs\n",
        "\n",
        "  def compute_mask(self, inputs, mask=None):\n",
        "    return tf.math.not_equal(inputs, 0) # masking function for checking if there are pad tokens(0)\n",
        "\n"
      ]
    },
    {
      "cell_type": "code",
      "execution_count": 76,
      "metadata": {
        "id": "EzN39sFoQxUy"
      },
      "outputs": [],
      "source": [
        "# testing\n",
        "\n",
        "# test_input = tf.constant([[1, 2, 3, 4, 0, 0, 0]])\n",
        "# embeddings_layer = Embeddings(sequence_length=7, vocab_size=20000, embedding_dim=256)\n",
        "# output_embed = embeddings_layer(test_input)\n",
        "# print(output_embed.shape)\n",
        "# mask = embeddings_layer.compute_mask(test_input)\n",
        "# print(mask)\n",
        "\n",
        "# output: [Batch, Sequence_length, Embedding_dims]\n",
        "# for each and every input there is vector with Embedding dimension 256\n",
        "# for zeros in the input the mask was computed and it was not considered since they are zeros(pad_tokens)"
      ]
    },
    {
      "cell_type": "code",
      "execution_count": 77,
      "metadata": {
        "id": "j-V0YD_LktuY"
      },
      "outputs": [],
      "source": [
        "# padding_mask = tf.cast(\n",
        "#     tf.repeat(mask,repeats=tf.shape(mask)[1],axis=0),\n",
        "#     dtype=tf.int32)\n",
        "# print(padding_mask)"
      ]
    },
    {
      "cell_type": "markdown",
      "source": [
        "### Custom Attention Layers\n",
        "\n"
      ],
      "metadata": {
        "id": "se_d-VgdZJxt"
      }
    },
    {
      "cell_type": "markdown",
      "source": [
        "**Self Attention Layer**\n",
        "<hr>"
      ],
      "metadata": {
        "id": "OelgaGHsZQgz"
      }
    },
    {
      "cell_type": "code",
      "source": [
        "class CustomSelfAttention(Layer):\n",
        "  def __init__(self, model_size):\n",
        "    super(CustomSelfAttention, self).__init__()\n",
        "    self.model_size = model_size\n",
        "\n",
        "  def call(self, query, key, value, masking):\n",
        "    #### Compute Scores ####\n",
        "    score = tf.matmul(query, key, transpose_b=True)\n",
        "\n",
        "    #### Scaling ####\n",
        "    score = score / tf.math.sqrt(tf.cast(self.model_size, dtype=tf.float32))\n",
        "\n",
        "    #### Masking ####\n",
        "    masking = tf.cast(masking, dtype=tf.float32)\n",
        "    score -= (1.0 - masking) * 1e10\n",
        "\n",
        "    #### Attention Weights ####\n",
        "    attention_weights = tf.nn.softmax(score, axis=-1) * masking\n",
        "\n",
        "    #### Weighted Sum ####\n",
        "    head_output = tf.matmul(attention_weights, value)\n",
        "\n",
        "    #### Output ####\n",
        "    return head_output\n"
      ],
      "metadata": {
        "id": "Uk1jY3YjZOdb"
      },
      "execution_count": 78,
      "outputs": []
    },
    {
      "cell_type": "markdown",
      "source": [
        "\n",
        "**Multi-Head-Attention Layer**\n",
        "<hr>"
      ],
      "metadata": {
        "id": "WMuAEGjzZYYD"
      }
    },
    {
      "cell_type": "code",
      "source": [
        "class CustomMultiHeadAttention(Layer):\n",
        "  def __init__(self, num_heads, key_dim):\n",
        "    super(CustomMultiHeadAttention, self).__init__()\n",
        "\n",
        "    self.num_heads = num_heads\n",
        "    self.dense_q = [Dense(key_dim//num_heads) for _ in range(num_heads)]\n",
        "    self.dense_k = [Dense(key_dim//num_heads) for _ in range(num_heads)]\n",
        "    self.dense_v = [Dense(key_dim//num_heads) for _ in range(num_heads)]\n",
        "    self.dense_o = Dense(key_dim)\n",
        "    self.attention = CustomSelfAttention(key_dim)\n",
        "\n",
        "  def call(self, query, key, value, attention_mask):\n",
        "    heads = []\n",
        "\n",
        "    for i in range(self.num_heads):\n",
        "      print('hello', self.dense_q[i](query).shape)\n",
        "      head = self.self_attention(self.dense_q[i](query), self.dense_k[i](key),\n",
        "                                 self.dense_v[i](value), attention_mask)\n",
        "\n",
        "      heads.append(head)\n",
        "    heads = tf.concat(heads, axis=2) # concatenating all heads\n",
        "    heads = self.dense_o(heads) # passing all heads through a linear layer for the final output\n",
        "    return heads\n"
      ],
      "metadata": {
        "id": "5wUWzrZ_avgB"
      },
      "execution_count": 79,
      "outputs": []
    },
    {
      "cell_type": "markdown",
      "metadata": {
        "id": "dqhsy5auXVnN"
      },
      "source": [
        "### Encoder Layer"
      ]
    },
    {
      "cell_type": "code",
      "execution_count": 80,
      "metadata": {
        "id": "26gOOnLNV2iP"
      },
      "outputs": [],
      "source": [
        "class TransformerEncoder(Layer):\n",
        "  def __init__(self, embedding_dims, dense_dims, num_heads):\n",
        "    super(TransformerEncoder, self).__init__()\n",
        "    self.embedding_dims = embedding_dims\n",
        "    self.dense_dims = dense_dims\n",
        "    self.num_heads = num_heads\n",
        "    self.attention = MultiHeadAttention(num_heads=num_heads, key_dim=embedding_dims)\n",
        "\n",
        "    self.dense_proj = tf.keras.Sequential([\n",
        "        Dense(self.dense_dims, activation=\"relu\"),\n",
        "        Dense(self.embedding_dims),\n",
        "    ])\n",
        "    self.layernorm_1 = LayerNormalization()\n",
        "    self.layernorm_2 = LayerNormalization()\n",
        "    self.supports_masking = True\n",
        "\n",
        "  def call(self, inputs, mask=None):\n",
        "    # print(mask)\n",
        "    if mask is not None:\n",
        "      mask = tf.cast(mask[:, tf.newaxis, :], dtype='int32')\n",
        "      # print(mask)\n",
        "      T = tf.shape(mask)[2]\n",
        "      padding_mask = tf.repeat(mask, T, axis=1)\n",
        "      # print(padding_mask)\n",
        "\n",
        "    attention_output = self.attention(query=inputs, value=inputs, key=inputs, attention_mask=padding_mask)\n",
        "\n",
        "    proj_input = self.layernorm_1(inputs + attention_output)\n",
        "    proj_output = self.dense_proj(proj_input)\n",
        "    return self.layernorm_2(proj_input + proj_output)"
      ]
    },
    {
      "cell_type": "code",
      "execution_count": 81,
      "metadata": {
        "id": "xvMJ79aMWUsJ"
      },
      "outputs": [],
      "source": [
        "##### Test for Encoder #####\n",
        "# test_input = tf.random.uniform((1, 10, 256))\n",
        "# test_mask = tf.cast(tf.random.uniform((1, 10)) > 0.5, tf.int32)\n",
        "# encoder = TransformerEncoder(embedding_dims=256, dense_dims=512, num_heads=8)(output_embed)\n",
        "# print(encoder.shape)\n"
      ]
    },
    {
      "cell_type": "markdown",
      "metadata": {
        "id": "mwY8O2xnk-d7"
      },
      "source": [
        "### Decoder"
      ]
    },
    {
      "cell_type": "code",
      "execution_count": 82,
      "metadata": {
        "id": "UkpG3-lslB3R"
      },
      "outputs": [],
      "source": [
        "class TransformerDecoder(Layer):\n",
        "  def __init__(self, embedding_dims, latent_dims, num_heads):\n",
        "    super(TransformerDecoder, self).__init__()\n",
        "    self.embedding_dims = embedding_dims\n",
        "    self.latent_dims = latent_dims\n",
        "    self.num_heads = num_heads\n",
        "    self.attention_1 = MultiHeadAttention(\n",
        "        num_heads=num_heads, key_dim=embedding_dims\n",
        "    ) # self attention\n",
        "    self.attention_2 = MultiHeadAttention(\n",
        "        num_heads=num_heads, key_dim=embedding_dims\n",
        "    ) # cross-attention with encoder's outputs\n",
        "    self.dense_proj = tf.keras.Sequential(\n",
        "        [Dense(latent_dims, activation='relu'), Dense(embedding_dims)]\n",
        "    ) # feed forward layer\n",
        "    self.layernorm_1 = LayerNormalization() # layer norm for all three layers as in paper\n",
        "    self.layernorm_2 = LayerNormalization()\n",
        "    self.layernorm_3 = LayerNormalization()\n",
        "    self.supports_masking = True # this is special because of decoder\n",
        "\n",
        "  def call (self, inputs, encoder_outputs, enc_mask, mask=None):\n",
        "\n",
        "    if mask is not None:\n",
        "      causal_mask = tf.linalg.band_part(\n",
        "          tf.ones([tf.shape(inputs)[0],\n",
        "                   tf.shape(inputs)[1],\n",
        "                   tf.shape(inputs)[1]], dtype=tf.int32), -1, 0)\n",
        "      # the role of causal mask is to prevent peeking into the future tokens for the decoder to predict better\n",
        "      # the band_part method makes it really easier to do this\n",
        "\n",
        "      mask = tf.cast(\n",
        "          mask[:, tf.newaxis, :], dtype='int32'\n",
        "      )\n",
        "      enc_mask = tf.cast(\n",
        "          enc_mask[:, tf.newaxis, :], dtype='int32'\n",
        "      )\n",
        "\n",
        "      T = tf.shape(mask)[2] # T is the number of queries from the decoder\n",
        "      padding_mask = tf.repeat(mask, T, axis=1)\n",
        "      cross_attn_mask = tf.repeat(enc_mask, T, axis=1)\n",
        "      combined_mask = tf.minimum(padding_mask, causal_mask) # the full mask for the masked mutli-head-connection\n",
        "      # print(f'Padding_mask: {padding_mask}')\n",
        "      # print(f'Causal_mask: {causal_mask}')\n",
        "      # print(f'Combined_mask: {combined_mask}')\n",
        "      # print(f'Cross_attention_mask: {cross_attn_mask}')\n",
        "\n",
        "\n",
        "      attention_output_1 = self.attention_1(\n",
        "          query=inputs, key=inputs, value=inputs,\n",
        "          attention_mask=combined_mask # the first layer which is the self attention for decoder\n",
        "      )\n",
        "\n",
        "      out_1 = self.layernorm_1(inputs + attention_output_1) # the first output + inputs added to be the input\n",
        "      # for the cross_attention layer\n",
        "\n",
        "      attention_output_2 = self.attention_2(\n",
        "          query=out_1, key=encoder_outputs, value=encoder_outputs,\n",
        "          attention_mask=cross_attn_mask # the mask from cross attention just like encoder\n",
        "      )\n",
        "\n",
        "      out_2 = self.layernorm_2(out_1 + attention_output_2) # output 2 after adding and normalizing to be passed\n",
        "      # to feed forward layer for the final outputs\n",
        "\n",
        "      proj_output = self.dense_proj(out_2)\n",
        "\n",
        "      return self.layernorm_3(out_2 + proj_output) # the last norm layer"
      ]
    },
    {
      "cell_type": "code",
      "execution_count": 83,
      "metadata": {
        "id": "lf-upalrWnZn"
      },
      "outputs": [],
      "source": [
        "##### Test for Decoder #####\n",
        "# enc_mask = mask\n",
        "# decoder_outputs = TransformerDecoder(embedding_dims=256, latent_dims=512, num_heads=8)(output_embed, encoder, enc_mask)\n",
        "# print(decoder_outputs.shape)\n"
      ]
    },
    {
      "cell_type": "markdown",
      "metadata": {
        "id": "dbOESCXLYxgi"
      },
      "source": [
        "\n",
        "As you see the combined mask does not consider the pad tokens.\n",
        "Lets define each of the mask roles:\n",
        "- Padding mask - removes consideration of unnecessary pad tokens.\n",
        "- Causal mask - Prevents from peeking in the future and helps decoder in predicting one token at a time.\n",
        "- Cross-Attention mask - In the context of cross-attention between the encoder and decoder, a mask is used to ensure that the decoder only attends to positions in the encoder that have valid information. In this case, it can be similar to a padding mask when dealing with sequences of different lengths.\n",
        "- Combined mask - takes the best of both world and  It ensures that the decoder doesn't include padding tokens in its consideration (like the padding mask) and enforces the autoregressive behavior (like the causal mask), allowing the decoder to predict one token at a time while avoiding future tokens.\n"
      ]
    },
    {
      "cell_type": "code",
      "execution_count": 84,
      "metadata": {
        "id": "9TVhd4prTmtI"
      },
      "outputs": [],
      "source": [
        "# test for band_part method\n",
        "# print(tf.linalg.band_part(tf.ones([10,10], dtype='int32'), -1, 0))"
      ]
    },
    {
      "cell_type": "markdown",
      "metadata": {
        "id": "D1l831Exqv7s"
      },
      "source": [
        "### Full Transfomers Model"
      ]
    },
    {
      "cell_type": "code",
      "execution_count": 85,
      "metadata": {
        "id": "8-ybmslsa6SZ"
      },
      "outputs": [],
      "source": [
        "EMBEDDING_DIMS = 512\n",
        "LATENT_DIMS = 2048\n",
        "NUM_HEADS = 8\n",
        "NUM_LAYERS = 1\n",
        "NUM_EPOCHS = 10"
      ]
    },
    {
      "cell_type": "code",
      "execution_count": 86,
      "metadata": {
        "id": "mHQAwl21oYHK",
        "colab": {
          "base_uri": "https://localhost:8080/"
        },
        "outputId": "c7977e4c-c2c8-4656-eed4-b3e074d4b20f"
      },
      "outputs": [
        {
          "output_type": "stream",
          "name": "stdout",
          "text": [
            "Model: \"transformer\"\n",
            "__________________________________________________________________________________________________\n",
            " Layer (type)                Output Shape                 Param #   Connected to                  \n",
            "==================================================================================================\n",
            " input_1 (InputLayer)        [(None, None)]               0         []                            \n",
            "                                                                                                  \n",
            " input_2 (InputLayer)        [(None, None)]               0         []                            \n",
            "                                                                                                  \n",
            " embeddings_2 (Embeddings)   (None, 32, 512)              1024000   ['input_1[0][0]']             \n",
            "                                                          0                                       \n",
            "                                                                                                  \n",
            " embeddings_3 (Embeddings)   (None, 32, 512)              1024000   ['input_2[0][0]']             \n",
            "                                                          0                                       \n",
            "                                                                                                  \n",
            " transformer_encoder_1 (Tra  (None, 32, 512)              1050316   ['embeddings_2[0][0]']        \n",
            " nsformerEncoder)                                         8                                       \n",
            "                                                                                                  \n",
            " tf.math.not_equal_1 (TFOpL  (None, None)                 0         ['input_1[0][0]']             \n",
            " ambda)                                                                                           \n",
            "                                                                                                  \n",
            " transformer_decoder_1 (Tra  (None, 32, 512)              1890560   ['embeddings_3[0][0]',        \n",
            " nsformerDecoder)                                         0          'transformer_encoder_1[0][0]'\n",
            "                                                                    , 'tf.math.not_equal_1[0][0]']\n",
            "                                                                                                  \n",
            " dropout_1 (Dropout)         (None, 32, 512)              0         ['transformer_decoder_1[0][0]'\n",
            "                                                                    ]                             \n",
            "                                                                                                  \n",
            " dense_9 (Dense)             (None, 32, 20000)            1026000   ['dropout_1[0][0]']           \n",
            "                                                          0                                       \n",
            "                                                                                                  \n",
            "==================================================================================================\n",
            "Total params: 60148768 (229.45 MB)\n",
            "Trainable params: 60148768 (229.45 MB)\n",
            "Non-trainable params: 0 (0.00 Byte)\n",
            "__________________________________________________________________________________________________\n"
          ]
        }
      ],
      "source": [
        "encoder_inputs = Input(shape=(None,), dtype='int64', name='input_1')\n",
        "embeddings = Embeddings(ENGLISH_SEQUENCE_LENGTH, VOCAB_SIZE, EMBEDDING_DIMS)\n",
        "x = embeddings(encoder_inputs)\n",
        "enc_mask = embeddings.compute_mask(encoder_inputs)\n",
        "\n",
        "\n",
        "for _ in range(NUM_LAYERS): # there can be N number of layers as mentioned by paper\n",
        "  x = TransformerEncoder(EMBEDDING_DIMS, LATENT_DIMS, NUM_HEADS)(x)\n",
        "encoder_outputs = x\n",
        "\n",
        "decoder_inputs = Input(shape=(None,), dtype='int64', name='input_2')\n",
        "x = Embeddings(FRENCH_SEQUENCE_LENGTH, VOCAB_SIZE, EMBEDDING_DIMS)(decoder_inputs)\n",
        "\n",
        "for _ in range(NUM_LAYERS):\n",
        "  x = TransformerDecoder(EMBEDDING_DIMS, LATENT_DIMS, NUM_HEADS)(x, encoder_outputs, enc_mask)\n",
        "\n",
        "x = tf.keras.layers.Dropout(0.5)(x)\n",
        "decoder_outputs = Dense(VOCAB_SIZE, activation='softmax')(x)\n",
        "\n",
        "\n",
        "transformer = tf.keras.Model(\n",
        "    [encoder_inputs, decoder_inputs],\n",
        "    decoder_outputs, name='transformer'\n",
        ")\n",
        "\n",
        "transformer.summary()"
      ]
    },
    {
      "cell_type": "markdown",
      "metadata": {
        "id": "vNl7CPS0dcUY"
      },
      "source": [
        "# Training"
      ]
    },
    {
      "cell_type": "markdown",
      "metadata": {
        "id": "tnXEaY5usBks"
      },
      "source": [
        "## BLEU Metric"
      ]
    },
    {
      "cell_type": "code",
      "execution_count": 87,
      "metadata": {
        "id": "Sn2pQG6frq4E"
      },
      "outputs": [],
      "source": [
        "class BLEU(tf.keras.metrics.Metric):\n",
        "    def __init__(self,name='bleu_score'):\n",
        "        super(BLEU,self).__init__()\n",
        "        self.bleu_score=0\n",
        "\n",
        "    def update_state(self,y_true,y_pred,sample_weight=None):\n",
        "      y_pred=tf.argmax(y_pred,-1)\n",
        "      self.bleu_score=0\n",
        "      for i,j in zip(y_pred,y_true):\n",
        "        tf.autograph.experimental.set_loop_options()\n",
        "\n",
        "        total_words=tf.math.count_nonzero(i)\n",
        "        total_matches=0\n",
        "        for word in i:\n",
        "          if word==0:\n",
        "            break\n",
        "          for q in range(len(j)):\n",
        "            if j[q]==0:\n",
        "              break\n",
        "            if word==j[q]:\n",
        "              total_matches+=1\n",
        "              j=tf.boolean_mask(j,[False if y==q else True for y in range(len(j))])\n",
        "              break\n",
        "\n",
        "        self.bleu_score+=total_matches/total_words\n",
        "\n",
        "    def result(self):\n",
        "        return self.bleu_score/BATCH_SIZE"
      ]
    },
    {
      "cell_type": "markdown",
      "metadata": {
        "id": "sgk1TppLdg0J"
      },
      "source": [
        "## Learning Rate Schedular"
      ]
    },
    {
      "cell_type": "code",
      "execution_count": 97,
      "metadata": {
        "id": "xdVfyVwfdgBn"
      },
      "outputs": [],
      "source": [
        "from keras.optimizers.schedules import LearningRateSchedule\n",
        "\n",
        "class Scheduler(LearningRateSchedule):\n",
        "  def __init__(self, d_model, warmup_steps):\n",
        "    \"\"\" Based on paper \"\"\"\n",
        "    super(Scheduler, self).__init__()\n",
        "    self.d_model = tf.cast(d_model, tf.float64)\n",
        "    self.warmup_steps = tf.cast(warmup_steps, dtype=tf.float64)\n",
        "\n",
        "  def __call__(self, step):\n",
        "    step = tf.cast(step, dtype=tf.float64)\n",
        "    return (self.d_model**(-0.5))*tf.math.minimum(step**(-0.5), step * (self.warmup_steps ** -1.5))\n",
        "    # as the number of steps keeping increasing the Learning Rate keeps decreasing\n",
        "\n",
        "  def get_config(self):\n",
        "      return {\n",
        "          \"d_model\": self.d_model.numpy(),\n",
        "          \"warmup_steps\": self.warmup_steps.numpy()\n",
        "      }"
      ]
    },
    {
      "cell_type": "code",
      "execution_count": 98,
      "metadata": {
        "id": "EtGuY3Cjdoov"
      },
      "outputs": [],
      "source": [
        "WARM_UP_STEPS = 4000\n",
        "lr_scheduled = Scheduler(EMBEDDING_DIMS, WARM_UP_STEPS)"
      ]
    },
    {
      "cell_type": "code",
      "execution_count": 90,
      "metadata": {
        "id": "nyfhZadAsGCI"
      },
      "outputs": [],
      "source": [
        "transformer.compile(\n",
        "    optimizer=Adam(lr_scheduled, beta_1=0.9, beta_2=0.98, epsilon=1e-9),\n",
        "    loss=tf.keras.losses.SparseCategoricalCrossentropy(),)\n",
        "    # metrics=[BLEU()],\n",
        "    # run_eagerly=True)\n",
        "\n"
      ]
    },
    {
      "cell_type": "code",
      "source": [
        "transformer.optimizer.learning_rate = lr_scheduled # because of config reparams"
      ],
      "metadata": {
        "id": "xQjtf2pv9bKR"
      },
      "execution_count": 99,
      "outputs": []
    },
    {
      "cell_type": "code",
      "execution_count": 91,
      "metadata": {
        "id": "5da6zVwPsYzq",
        "colab": {
          "base_uri": "https://localhost:8080/"
        },
        "outputId": "f528f61d-13d5-478c-c5a8-4054a5b6c81b"
      },
      "outputs": [
        {
          "output_type": "stream",
          "name": "stdout",
          "text": [
            "Epoch 1/10\n",
            "1405/1405 [==============================] - 238s 161ms/step - loss: 5.4360 - val_loss: 4.6908\n",
            "Epoch 2/10\n",
            "1405/1405 [==============================] - 195s 138ms/step - loss: 3.2834 - val_loss: 3.8181\n",
            "Epoch 3/10\n",
            "1405/1405 [==============================] - 192s 137ms/step - loss: 2.6322 - val_loss: 3.5028\n",
            "Epoch 4/10\n",
            "1405/1405 [==============================] - 195s 138ms/step - loss: 2.2687 - val_loss: 3.1521\n",
            "Epoch 5/10\n",
            "1405/1405 [==============================] - 193s 137ms/step - loss: 2.0090 - val_loss: 3.0649\n",
            "Epoch 6/10\n",
            "1405/1405 [==============================] - 193s 137ms/step - loss: 1.8620 - val_loss: 3.0069\n",
            "Epoch 7/10\n",
            "1405/1405 [==============================] - 194s 137ms/step - loss: 1.7258 - val_loss: 2.9751\n",
            "Epoch 8/10\n",
            "1405/1405 [==============================] - 193s 137ms/step - loss: 1.6314 - val_loss: 2.9634\n",
            "Epoch 9/10\n",
            "1405/1405 [==============================] - 193s 137ms/step - loss: 1.5566 - val_loss: 2.9341\n",
            "Epoch 10/10\n",
            "1405/1405 [==============================] - 193s 137ms/step - loss: 1.5016 - val_loss: 3.0033\n"
          ]
        }
      ],
      "source": [
        "history = transformer.fit(\n",
        "    train_dataset,\n",
        "    epochs=10,\n",
        "    validation_data=val_dataset)"
      ]
    },
    {
      "cell_type": "code",
      "source": [
        "transformer.save('transformer.hdf5')"
      ],
      "metadata": {
        "id": "dco-2a-QfMUS"
      },
      "execution_count": 100,
      "outputs": []
    },
    {
      "cell_type": "markdown",
      "metadata": {
        "id": "MgsxM6FRu7Uy"
      },
      "source": [
        "# Testing and Evaluation"
      ]
    },
    {
      "cell_type": "markdown",
      "source": [
        "## Model loss plots"
      ],
      "metadata": {
        "id": "a6RaruE8sDYa"
      }
    },
    {
      "cell_type": "code",
      "execution_count": 101,
      "metadata": {
        "id": "ne1Lhnn9mTPW",
        "colab": {
          "base_uri": "https://localhost:8080/",
          "height": 472
        },
        "outputId": "c6e183eb-a064-4543-9b5e-d6d54bf16b3e"
      },
      "outputs": [
        {
          "output_type": "display_data",
          "data": {
            "text/plain": [
              "<Figure size 640x480 with 1 Axes>"
            ],
            "image/png": "[encoded data removed]"
          },
          "metadata": {}
        }
      ],
      "source": [
        "plt.plot(history.history['loss'])\n",
        "plt.plot(history.history['val_loss'])\n",
        "plt.title('Model Loss and Validation Loss')\n",
        "plt.xlabel('Epoch')\n",
        "plt.ylabel('Loss')\n",
        "plt.legend(['Train', 'Val'])\n",
        "plt.show()\n"
      ]
    },
    {
      "cell_type": "markdown",
      "source": [
        "##Evaluation"
      ],
      "metadata": {
        "id": "0K4qP_j2sHVQ"
      }
    },
    {
      "cell_type": "code",
      "source": [
        "# from tensorflow.keras.models import load_model\n",
        "# from tensorflow.keras.utils import custom_object_scope\n",
        "\n",
        "# with custom_object_scope({'Embeddings': Embeddings,\n",
        "#                           'TransformerEncoder': TransformerEncoder,\n",
        "#                           'TransformerDecoder': TransformerDecoder}):\n",
        "#     transformer = load_model('transformer.hdf5')\n",
        "\n"
      ],
      "metadata": {
        "id": "CzldWzDNsJ7a"
      },
      "execution_count": null,
      "outputs": []
    },
    {
      "cell_type": "markdown",
      "source": [
        "## Translating texts"
      ],
      "metadata": {
        "id": "YWnogdqpsQwI"
      }
    },
    {
      "cell_type": "code",
      "source": [
        "index_to_word={x:y for x, y in zip(range(len(french_vectorize_layer.get_vocabulary())),\n",
        "                                   french_vectorize_layer.get_vocabulary())}"
      ],
      "metadata": {
        "id": "oxoRUXDKsQRI"
      },
      "execution_count": 107,
      "outputs": []
    },
    {
      "cell_type": "code",
      "source": [
        "def translator(english_sentence):\n",
        "  tokenized_english_sentence=english_vectorize_layer([english_sentence])\n",
        "  shifted_target='starttoken'\n",
        "\n",
        "  for i in range(FRENCH_SEQUENCE_LENGTH):\n",
        "    tokenized_shifted_target=french_vectorize_layer([shifted_target])\n",
        "    output=transformer.predict([tokenized_english_sentence,tokenized_shifted_target])\n",
        "    french_word_index=tf.argmax(output,axis=-1)[0][i].numpy()\n",
        "    current_word=index_to_word[french_word_index]\n",
        "    if current_word=='endtoken':\n",
        "      break\n",
        "    shifted_target+=' '+current_word\n",
        "  return shifted_target[11:]"
      ],
      "metadata": {
        "id": "TwDd4fXFsX-7"
      },
      "execution_count": 108,
      "outputs": []
    },
    {
      "cell_type": "code",
      "source": [
        "translator('What makes you think that it is not true?')\n"
      ],
      "metadata": {
        "colab": {
          "base_uri": "https://localhost:8080/",
          "height": 222
        },
        "id": "frcen8q5sZes",
        "outputId": "ac13798c-3ba1-4165-e44a-189cd32c39ae"
      },
      "execution_count": 109,
      "outputs": [
        {
          "output_type": "stream",
          "name": "stdout",
          "text": [
            "1/1 [==============================] - 3s 3s/step\n",
            "1/1 [==============================] - 0s 25ms/step\n",
            "1/1 [==============================] - 0s 23ms/step\n",
            "1/1 [==============================] - 0s 23ms/step\n",
            "1/1 [==============================] - 0s 22ms/step\n",
            "1/1 [==============================] - 0s 22ms/step\n",
            "1/1 [==============================] - 0s 23ms/step\n",
            "1/1 [==============================] - 0s 24ms/step\n",
            "1/1 [==============================] - 0s 21ms/step\n",
            "1/1 [==============================] - 0s 22ms/step\n",
            "1/1 [==============================] - 0s 22ms/step\n"
          ]
        },
        {
          "output_type": "execute_result",
          "data": {
            "text/plain": [
              "'questce qui vous fait penser que ce nest pas vrai'"
            ],
            "application/vnd.google.colaboratory.intrinsic+json": {
              "type": "string"
            }
          },
          "metadata": {},
          "execution_count": 109
        }
      ]
    },
    {
      "cell_type": "code",
      "source": [
        "translator('Have you ever watched soccer under the rain?')"
      ],
      "metadata": {
        "colab": {
          "base_uri": "https://localhost:8080/",
          "height": 137
        },
        "id": "6I-rCugashGv",
        "outputId": "2fbb319e-3191-4d9c-a1dc-680f9e66b02f"
      },
      "execution_count": 110,
      "outputs": [
        {
          "output_type": "stream",
          "name": "stdout",
          "text": [
            "1/1 [==============================] - 0s 23ms/step\n",
            "1/1 [==============================] - 0s 23ms/step\n",
            "1/1 [==============================] - 0s 24ms/step\n",
            "1/1 [==============================] - 0s 23ms/step\n",
            "1/1 [==============================] - 0s 24ms/step\n",
            "1/1 [==============================] - 0s 23ms/step\n"
          ]
        },
        {
          "output_type": "execute_result",
          "data": {
            "text/plain": [
              "'astu déjà regardé le [UNK]'"
            ],
            "application/vnd.google.colaboratory.intrinsic+json": {
              "type": "string"
            }
          },
          "metadata": {},
          "execution_count": 110
        }
      ]
    },
    {
      "cell_type": "code",
      "source": [
        "translator(\"what is your name?\")"
      ],
      "metadata": {
        "colab": {
          "base_uri": "https://localhost:8080/",
          "height": 171
        },
        "id": "Vuff5O02sh7l",
        "outputId": "88b5b0d3-1f33-4cb7-a9fb-00baebf417e6"
      },
      "execution_count": 111,
      "outputs": [
        {
          "output_type": "stream",
          "name": "stdout",
          "text": [
            "1/1 [==============================] - 0s 26ms/step\n",
            "1/1 [==============================] - 0s 25ms/step\n",
            "1/1 [==============================] - 0s 24ms/step\n",
            "1/1 [==============================] - 0s 25ms/step\n",
            "1/1 [==============================] - 0s 25ms/step\n",
            "1/1 [==============================] - 0s 23ms/step\n",
            "1/1 [==============================] - 0s 24ms/step\n",
            "1/1 [==============================] - 0s 23ms/step\n"
          ]
        },
        {
          "output_type": "execute_result",
          "data": {
            "text/plain": [
              "'ton nom est ton nom de famille'"
            ],
            "application/vnd.google.colaboratory.intrinsic+json": {
              "type": "string"
            }
          },
          "metadata": {},
          "execution_count": 111
        }
      ]
    },
    {
      "cell_type": "code",
      "source": [
        "translator('Great trees do not grow with ease, the stronger the winds, the stronger the trees')"
      ],
      "metadata": {
        "colab": {
          "base_uri": "https://localhost:8080/",
          "height": 222
        },
        "id": "kNLbe2pcskcj",
        "outputId": "742677c1-3e40-42dd-fce0-a37d1b08bc54"
      },
      "execution_count": 112,
      "outputs": [
        {
          "output_type": "stream",
          "name": "stdout",
          "text": [
            "1/1 [==============================] - 0s 24ms/step\n",
            "1/1 [==============================] - 0s 26ms/step\n",
            "1/1 [==============================] - 0s 26ms/step\n",
            "1/1 [==============================] - 0s 25ms/step\n",
            "1/1 [==============================] - 0s 26ms/step\n",
            "1/1 [==============================] - 0s 23ms/step\n",
            "1/1 [==============================] - 0s 23ms/step\n",
            "1/1 [==============================] - 0s 24ms/step\n",
            "1/1 [==============================] - 0s 24ms/step\n",
            "1/1 [==============================] - 0s 22ms/step\n",
            "1/1 [==============================] - 0s 25ms/step\n"
          ]
        },
        {
          "output_type": "execute_result",
          "data": {
            "text/plain": [
              "'de nombreuses arbres ne sapplique pas avec un fort fort'"
            ],
            "application/vnd.google.colaboratory.intrinsic+json": {
              "type": "string"
            }
          },
          "metadata": {},
          "execution_count": 112
        }
      ]
    },
    {
      "cell_type": "markdown",
      "source": [
        "Its not bad considering less training"
      ],
      "metadata": {
        "id": "AWjNGrn2-2KD"
      }
    }
  ],
  "metadata": {
    "accelerator": "GPU",
    "colab": {
      "collapsed_sections": [
        "yHoYbLZ0Vd1Z"
      ],
      "machine_shape": "hm",
      "provenance": [],
      "gpuType": "V100",
      "mount_file_id": "1bU7GhF23xWvpCyve3p8sX7aqbg235nCJ",
      "authorship_tag": "ABX9TyPEkn6ByR483/jx87yvTPVZ",
      "include_colab_link": true
    },
    "kernelspec": {
      "display_name": "Python 3",
      "name": "python3"
    },
    "language_info": {
      "name": "python"
    }
  },
  "nbformat": 4,
  "nbformat_minor": 0
}